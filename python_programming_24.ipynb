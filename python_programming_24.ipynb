{
 "cells": [
  {
   "cell_type": "code",
   "execution_count": 1,
   "id": "dd2b9941",
   "metadata": {},
   "outputs": [],
   "source": [
    "# Question1\n",
    "# Create a function that takes an integer and returns a list from 1 to the given number, where:\n",
    "# 1. If the number can be divided evenly by 4, amplify it by 10 (i.e. return 10 times the\n",
    "# number).\n",
    "# 2. If the number cannot be divided evenly by 4, simply return the number."
   ]
  },
  {
   "cell_type": "code",
   "execution_count": 2,
   "id": "b806a9f4",
   "metadata": {},
   "outputs": [
    {
     "data": {
      "text/plain": [
       "[1, 2, 3, 40, 5, 6, 7]"
      ]
     },
     "execution_count": 2,
     "metadata": {},
     "output_type": "execute_result"
    }
   ],
   "source": [
    "def amplify(num):\n",
    "    result = []\n",
    "    for i in range(1, num + 1):\n",
    "        if i % 4 == 0:\n",
    "            result.append(i * 10)\n",
    "        else:\n",
    "            result.append(i)\n",
    "    return result\n",
    "amplify(7)"
   ]
  },
  {
   "cell_type": "code",
   "execution_count": 3,
   "id": "b2b88963",
   "metadata": {},
   "outputs": [],
   "source": [
    "# Question2\n",
    "# Create a function that takes a list of numbers and return the number that&#39;s unique."
   ]
  },
  {
   "cell_type": "code",
   "execution_count": 4,
   "id": "1c35179d",
   "metadata": {},
   "outputs": [
    {
     "name": "stdout",
     "output_type": "stream",
     "text": [
      "3\n"
     ]
    }
   ],
   "source": [
    "def find_unique(lst):\n",
    "    for num in lst:\n",
    "        if lst.count(num) == 1:\n",
    "            return num\n",
    "my_list = [1, 1, 2, 2, 3, 4, 4, 5, 5]\n",
    "print(find_unique(my_list))  # Output: 3\n"
   ]
  },
  {
   "cell_type": "code",
   "execution_count": 6,
   "id": "63008fa0",
   "metadata": {},
   "outputs": [],
   "source": [
    "# Question3\n",
    "# Your task is to create a Circle constructor that creates a circle with a radius provided by an\n",
    "# argument. The circles constructed must have two getters getArea() (PIr^2) and\n",
    "# getPerimeter() (2PI*r) which give both respective areas and perimeter (circumference).\n",
    "\n",
    "# For help with this class, I have provided you with a Rectangle constructor which you can use\n",
    "# as a base example."
   ]
  },
  {
   "cell_type": "code",
   "execution_count": 7,
   "id": "31b094a8",
   "metadata": {},
   "outputs": [],
   "source": [
    "import math\n",
    "\n",
    "class Circle:\n",
    "    def __init__(self, radius):\n",
    "        self.radius = radius\n",
    "        \n",
    "    def getArea(self):\n",
    "        return math.pi * self.radius ** 2\n",
    "    \n",
    "    def getPerimeter(self):\n",
    "        return 2 * math.pi * self.radius\n"
   ]
  },
  {
   "cell_type": "code",
   "execution_count": 8,
   "id": "54341aae",
   "metadata": {},
   "outputs": [],
   "source": [
    "# Question4\n",
    "# Create a function that takes a list of strings and return a list, sorted from shortest to longest."
   ]
  },
  {
   "cell_type": "code",
   "execution_count": 9,
   "id": "68e8d849",
   "metadata": {},
   "outputs": [
    {
     "name": "stdout",
     "output_type": "stream",
     "text": [
      "['pear', 'apple', 'banana', 'grapefruit']\n"
     ]
    }
   ],
   "source": [
    "def sort_by_length(lst):\n",
    "    return sorted(lst, key=len)\n",
    "words = ['apple', 'banana', 'pear', 'grapefruit']\n",
    "sorted_words = sort_by_length(words)\n",
    "print(sorted_words) # Output: ['pear', 'apple', 'banana', 'grapefruit']\n"
   ]
  },
  {
   "cell_type": "code",
   "execution_count": 10,
   "id": "b61deb7c",
   "metadata": {},
   "outputs": [],
   "source": [
    "# Question5\n",
    "# Create a function that validates whether three given integers form a Pythagorean triplet. The\n",
    "# sum of the squares of the two smallest integers must equal the square of the largest number to\n",
    "# be validated."
   ]
  },
  {
   "cell_type": "code",
   "execution_count": 11,
   "id": "d976adf6",
   "metadata": {},
   "outputs": [
    {
     "data": {
      "text/plain": [
       "True"
      ]
     },
     "execution_count": 11,
     "metadata": {},
     "output_type": "execute_result"
    }
   ],
   "source": [
    "def is_pythagorean_triplet(a, b, c):\n",
    "    \"\"\"\n",
    "    Returns True if the given three integers form a Pythagorean triplet, False otherwise.\n",
    "    \"\"\"\n",
    "    smallest = min(a, b, c)\n",
    "    largest = max(a, b, c)\n",
    "    middle = (a + b + c) - smallest - largest\n",
    "    return smallest**2 + middle**2 == largest**2\n",
    "is_pythagorean_triplet(3, 4, 5)"
   ]
  },
  {
   "cell_type": "code",
   "execution_count": null,
   "id": "a2818b95",
   "metadata": {},
   "outputs": [],
   "source": []
  }
 ],
 "metadata": {
  "kernelspec": {
   "display_name": "Python 3 (ipykernel)",
   "language": "python",
   "name": "python3"
  },
  "language_info": {
   "codemirror_mode": {
    "name": "ipython",
    "version": 3
   },
   "file_extension": ".py",
   "mimetype": "text/x-python",
   "name": "python",
   "nbconvert_exporter": "python",
   "pygments_lexer": "ipython3",
   "version": "3.9.12"
  }
 },
 "nbformat": 4,
 "nbformat_minor": 5
}
