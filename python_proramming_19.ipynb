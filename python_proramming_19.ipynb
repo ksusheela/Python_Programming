{
 "cells": [
  {
   "cell_type": "code",
   "execution_count": 1,
   "id": "e4ada19b",
   "metadata": {},
   "outputs": [],
   "source": [
    "# Question1\n",
    "# Create a function that takes a string and returns a string in which each character is repeated\n",
    "# once."
   ]
  },
  {
   "cell_type": "code",
   "execution_count": 2,
   "id": "18877eac",
   "metadata": {},
   "outputs": [
    {
     "data": {
      "text/plain": [
       "'hheelllloo'"
      ]
     },
     "execution_count": 2,
     "metadata": {},
     "output_type": "execute_result"
    }
   ],
   "source": [
    "def double_char(txt):\n",
    "    # Initialize an empty string\n",
    "    result = \"\"\n",
    "\n",
    "    # Iterate through the string\n",
    "    for char in txt:\n",
    "        # Concatenate the current character twice to the result string\n",
    "        result += char * 2\n",
    "    \n",
    "    return result\n",
    "double_char(\"hello\")"
   ]
  },
  {
   "cell_type": "code",
   "execution_count": 3,
   "id": "7eece2dd",
   "metadata": {},
   "outputs": [],
   "source": [
    "# Question2\n",
    "# Create a function that reverses a boolean value and returns the string &quot;boolean expected&quot;\n",
    "# if another variable type is given."
   ]
  },
  {
   "cell_type": "code",
   "execution_count": 6,
   "id": "728a11d8",
   "metadata": {},
   "outputs": [
    {
     "data": {
      "text/plain": [
       "False"
      ]
     },
     "execution_count": 6,
     "metadata": {},
     "output_type": "execute_result"
    }
   ],
   "source": [
    "def reverse_bool(bool_val):\n",
    "    if isinstance(bool_val, bool):\n",
    "        return not bool_val\n",
    "    else:\n",
    "        return \"boolean expected\"\n",
    "reverse_bool(True)"
   ]
  },
  {
   "cell_type": "code",
   "execution_count": 7,
   "id": "0cfefdc4",
   "metadata": {},
   "outputs": [],
   "source": [
    "# Question3\n",
    "# Create a function that returns the thickness (in meters) of a piece of paper"
   ]
  },
  {
   "cell_type": "code",
   "execution_count": 8,
   "id": "30a6e3d8",
   "metadata": {},
   "outputs": [
    {
     "data": {
      "text/plain": [
       "0.5"
      ]
     },
     "execution_count": 8,
     "metadata": {},
     "output_type": "execute_result"
    }
   ],
   "source": [
    "def paper_thickness(num_sheets, sheet_thickness):\n",
    "    return num_sheets * sheet_thickness\n",
    "paper_thickness(500, 0.001)\n",
    "\n"
   ]
  },
  {
   "cell_type": "code",
   "execution_count": 9,
   "id": "d0392851",
   "metadata": {},
   "outputs": [],
   "source": [
    "# Question4\n",
    "# Create a function that takes a single string as argument and returns an ordered list containing\n",
    "# the indices of all capital letters in the string."
   ]
  },
  {
   "cell_type": "code",
   "execution_count": 10,
   "id": "c5f7b581",
   "metadata": {},
   "outputs": [
    {
     "data": {
      "text/plain": [
       "[0, 6]"
      ]
     },
     "execution_count": 10,
     "metadata": {},
     "output_type": "execute_result"
    }
   ],
   "source": [
    "def get_capital_indices(string):\n",
    "    capital_indices = []\n",
    "    for i in range(len(string)):\n",
    "        if string[i].isupper():\n",
    "            capital_indices.append(i)\n",
    "    return capital_indices\n",
    "get_capital_indices('Hello World!')\n",
    "\n"
   ]
  },
  {
   "cell_type": "code",
   "execution_count": 11,
   "id": "a7512442",
   "metadata": {},
   "outputs": [],
   "source": [
    "# Question5\n",
    "# Using list comprehensions, create a function that finds all even numbers from 1 to the given\n",
    "# number."
   ]
  },
  {
   "cell_type": "code",
   "execution_count": 12,
   "id": "67d5c206",
   "metadata": {},
   "outputs": [],
   "source": [
    "def find_even_numbers(n):\n",
    "    return [i for i in range(1, n+1) if i % 2 == 0]\n"
   ]
  },
  {
   "cell_type": "code",
   "execution_count": 13,
   "id": "93f393dc",
   "metadata": {},
   "outputs": [
    {
     "data": {
      "text/plain": [
       "[2, 4, 6, 8, 10]"
      ]
     },
     "execution_count": 13,
     "metadata": {},
     "output_type": "execute_result"
    }
   ],
   "source": [
    "find_even_numbers(10)"
   ]
  },
  {
   "cell_type": "code",
   "execution_count": null,
   "id": "b1280911",
   "metadata": {},
   "outputs": [],
   "source": []
  }
 ],
 "metadata": {
  "kernelspec": {
   "display_name": "Python 3 (ipykernel)",
   "language": "python",
   "name": "python3"
  },
  "language_info": {
   "codemirror_mode": {
    "name": "ipython",
    "version": 3
   },
   "file_extension": ".py",
   "mimetype": "text/x-python",
   "name": "python",
   "nbconvert_exporter": "python",
   "pygments_lexer": "ipython3",
   "version": "3.9.12"
  }
 },
 "nbformat": 4,
 "nbformat_minor": 5
}
