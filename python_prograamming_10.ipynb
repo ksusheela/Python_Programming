{
 "cells": [
  {
   "cell_type": "markdown",
   "id": "99ead611",
   "metadata": {},
   "source": [
    "## 1. Write a Python program to find sum of elements in list?"
   ]
  },
  {
   "cell_type": "code",
   "execution_count": 1,
   "id": "69416bcc",
   "metadata": {},
   "outputs": [
    {
     "name": "stdout",
     "output_type": "stream",
     "text": [
      "The sum of the elements in the list is: 27\n"
     ]
    }
   ],
   "source": [
    "# define the list\n",
    "my_list = [2, 3, 4, 5, 6, 7]\n",
    "\n",
    "# calculate the sum using the built-in sum() function\n",
    "list_sum = sum(my_list)\n",
    "\n",
    "# print the result\n",
    "print(\"The sum of the elements in the list is:\", list_sum)\n"
   ]
  },
  {
   "cell_type": "markdown",
   "id": "519a0b48",
   "metadata": {},
   "source": [
    "## 2. Write a Python program to Multiply all numbers in the list?"
   ]
  },
  {
   "cell_type": "code",
   "execution_count": 2,
   "id": "599e5b2d",
   "metadata": {},
   "outputs": [
    {
     "name": "stdout",
     "output_type": "stream",
     "text": [
      "The product of the elements in the list is: 5040\n"
     ]
    }
   ],
   "source": [
    "# define the list\n",
    "my_list = [2, 3, 4, 5, 6, 7]\n",
    "\n",
    "# initialize a variable to store the product\n",
    "list_product = 1\n",
    "\n",
    "# loop through each element in the list and multiply it with the running product\n",
    "for num in my_list:\n",
    "    list_product *= num\n",
    "\n",
    "# print the result\n",
    "print(\"The product of the elements in the list is:\", list_product)\n"
   ]
  },
  {
   "cell_type": "markdown",
   "id": "bb247162",
   "metadata": {},
   "source": [
    "## 3. Write a Python program to find smallest number in a list?"
   ]
  },
  {
   "cell_type": "code",
   "execution_count": 3,
   "id": "7ad4c3f0",
   "metadata": {},
   "outputs": [
    {
     "name": "stdout",
     "output_type": "stream",
     "text": [
      "The smallest number in the list is: 2\n"
     ]
    }
   ],
   "source": [
    "# define the list\n",
    "my_list = [2, 3, 4, 5, 6, 7]\n",
    "\n",
    "# find the smallest number using the built-in min() function\n",
    "smallest_num = min(my_list)\n",
    "\n",
    "# print the result\n",
    "print(\"The smallest number in the list is:\", smallest_num)\n"
   ]
  },
  {
   "cell_type": "markdown",
   "id": "b9592ea4",
   "metadata": {},
   "source": [
    "## 4. Write a Python program to find largest number in a list?"
   ]
  },
  {
   "cell_type": "code",
   "execution_count": 4,
   "id": "7eb5ecad",
   "metadata": {},
   "outputs": [
    {
     "name": "stdout",
     "output_type": "stream",
     "text": [
      "The largest number in the list is: 7\n"
     ]
    }
   ],
   "source": [
    "# define the list\n",
    "my_list = [2, 3, 4, 5, 6, 7]\n",
    "\n",
    "# find the largest number using the built-in max() function\n",
    "largest_num = max(my_list)\n",
    "\n",
    "# print the result\n",
    "print(\"The largest number in the list is:\", largest_num)\n"
   ]
  },
  {
   "cell_type": "markdown",
   "id": "6126d7ed",
   "metadata": {},
   "source": [
    "## 5. Write a Python program to find second largest number in a list?"
   ]
  },
  {
   "cell_type": "code",
   "execution_count": 5,
   "id": "da87c95a",
   "metadata": {},
   "outputs": [
    {
     "name": "stdout",
     "output_type": "stream",
     "text": [
      "The second largest number in the list is: 6\n"
     ]
    }
   ],
   "source": [
    "# define the list\n",
    "my_list = [2, 3, 4, 5, 6, 7]\n",
    "\n",
    "# find the largest number using the built-in max() function\n",
    "largest_num = max(my_list)\n",
    "\n",
    "# remove the largest number from the list\n",
    "my_list.remove(largest_num)\n",
    "\n",
    "# find the new largest number, which is the second largest in the original list\n",
    "second_largest_num = max(my_list)\n",
    "\n",
    "# print the result\n",
    "print(\"The second largest number in the list is:\", second_largest_num)\n"
   ]
  },
  {
   "cell_type": "markdown",
   "id": "a7237e16",
   "metadata": {},
   "source": [
    "## 6. Write a Python program to find N largest elements from a list?"
   ]
  },
  {
   "cell_type": "code",
   "execution_count": 6,
   "id": "42277012",
   "metadata": {},
   "outputs": [
    {
     "name": "stdout",
     "output_type": "stream",
     "text": [
      "The 3 largest elements in the list are: [99, 45, 20]\n"
     ]
    }
   ],
   "source": [
    "# Define the list\n",
    "my_list = [10, 20, 4, 45, 99]\n",
    "\n",
    "# Define the value of N\n",
    "N = 3\n",
    "\n",
    "# Sort the list in descending order\n",
    "my_list.sort(reverse=True)\n",
    "\n",
    "# Print the first N elements of the sorted list\n",
    "print(\"The\", N, \"largest elements in the list are:\", my_list[:N])\n"
   ]
  },
  {
   "cell_type": "markdown",
   "id": "5b35c4a1",
   "metadata": {},
   "source": [
    "## 7. Write a Python program to print even numbers in a list?"
   ]
  },
  {
   "cell_type": "code",
   "execution_count": 7,
   "id": "b89703fe",
   "metadata": {},
   "outputs": [
    {
     "name": "stdout",
     "output_type": "stream",
     "text": [
      "2 4 6 8 "
     ]
    }
   ],
   "source": [
    "# Define the list\n",
    "my_list = [1, 2, 3, 4, 5, 6, 7, 8, 9]\n",
    "\n",
    "# Loop through each element in the list\n",
    "for num in my_list:\n",
    "    # Check if the element is even\n",
    "    if num % 2 == 0:\n",
    "        # If it's even, print it\n",
    "        print(num, end=\" \")\n"
   ]
  },
  {
   "cell_type": "markdown",
   "id": "6e0c3667",
   "metadata": {},
   "source": [
    "## 8. Write a Python program to print odd numbers in a List?"
   ]
  },
  {
   "cell_type": "code",
   "execution_count": 8,
   "id": "339d938b",
   "metadata": {},
   "outputs": [
    {
     "name": "stdout",
     "output_type": "stream",
     "text": [
      "1 3 5 7 9 "
     ]
    }
   ],
   "source": [
    "# Define the list\n",
    "my_list = [1, 2, 3, 4, 5, 6, 7, 8, 9]\n",
    "\n",
    "# Loop through each element in the list\n",
    "for num in my_list:\n",
    "    # Check if the element is odd\n",
    "    if num % 2 != 0:\n",
    "        # If it's odd, print it\n",
    "        print(num, end=\" \")\n"
   ]
  },
  {
   "cell_type": "markdown",
   "id": "f7a8595d",
   "metadata": {},
   "source": [
    "## 9. Write a Python program to Remove empty List from List?"
   ]
  },
  {
   "cell_type": "code",
   "execution_count": 9,
   "id": "b411c71d",
   "metadata": {},
   "outputs": [
    {
     "name": "stdout",
     "output_type": "stream",
     "text": [
      "The list without empty lists is: [[1, 2], [3, 4, 5], [6]]\n"
     ]
    }
   ],
   "source": [
    "# Define the list with some empty lists\n",
    "my_list = [[1, 2], [], [3, 4, 5], [], [], [6], []]\n",
    "\n",
    "# Use list comprehension to create a new list without the empty lists\n",
    "new_list = [x for x in my_list if x]\n",
    "\n",
    "# Print the new list without empty lists\n",
    "print(\"The list without empty lists is:\", new_list)\n"
   ]
  },
  {
   "cell_type": "markdown",
   "id": "0515fd27",
   "metadata": {},
   "source": [
    "## 10. Write a Python program to Cloning or Copying a list?"
   ]
  },
  {
   "cell_type": "code",
   "execution_count": 10,
   "id": "28eb491c",
   "metadata": {},
   "outputs": [
    {
     "name": "stdout",
     "output_type": "stream",
     "text": [
      "Original list: [1, 2, 3, 4, 5]\n",
      "Cloned list: [1, 2, 3, 4, 5]\n"
     ]
    }
   ],
   "source": [
    "# Define the original list\n",
    "my_list = [1, 2, 3, 4, 5]\n",
    "\n",
    "# Clone the list using the slice operator\n",
    "new_list = my_list[:]\n",
    "\n",
    "# Print the original list and the cloned list\n",
    "print(\"Original list:\", my_list)\n",
    "print(\"Cloned list:\", new_list)\n"
   ]
  },
  {
   "cell_type": "code",
   "execution_count": 11,
   "id": "dbf47729",
   "metadata": {},
   "outputs": [
    {
     "name": "stdout",
     "output_type": "stream",
     "text": [
      "Original list: [1, 2, 3, 4, 5]\n",
      "Cloned list: [1, 2, 3, 4, 5]\n"
     ]
    }
   ],
   "source": [
    "# Define the original list\n",
    "my_list = [1, 2, 3, 4, 5]\n",
    "\n",
    "# Clone the list using the copy() method\n",
    "new_list = my_list.copy()\n",
    "\n",
    "# Print the original list and the cloned list\n",
    "print(\"Original list:\", my_list)\n",
    "print(\"Cloned list:\", new_list)\n"
   ]
  },
  {
   "cell_type": "markdown",
   "id": "5810b1f4",
   "metadata": {},
   "source": [
    "## 11. Write a Python program to Count occurrences of an element in a list?"
   ]
  },
  {
   "cell_type": "code",
   "execution_count": 12,
   "id": "45f6a824",
   "metadata": {},
   "outputs": [
    {
     "name": "stdout",
     "output_type": "stream",
     "text": [
      "The element 2 appears 4 times in the list.\n"
     ]
    }
   ],
   "source": [
    "# Define the list\n",
    "my_list = [1, 2, 3, 2, 4, 2, 5, 2]\n",
    "\n",
    "# Define the element to count\n",
    "element = 2\n",
    "\n",
    "# Use the count() method to count occurrences of the element\n",
    "count = my_list.count(element)\n",
    "\n",
    "# Print the result\n",
    "print(\"The element\", element, \"appears\", count, \"times in the list.\")\n"
   ]
  },
  {
   "cell_type": "code",
   "execution_count": null,
   "id": "2e6fd5b0",
   "metadata": {},
   "outputs": [],
   "source": []
  }
 ],
 "metadata": {
  "kernelspec": {
   "display_name": "Python 3 (ipykernel)",
   "language": "python",
   "name": "python3"
  },
  "language_info": {
   "codemirror_mode": {
    "name": "ipython",
    "version": 3
   },
   "file_extension": ".py",
   "mimetype": "text/x-python",
   "name": "python",
   "nbconvert_exporter": "python",
   "pygments_lexer": "ipython3",
   "version": "3.9.12"
  }
 },
 "nbformat": 4,
 "nbformat_minor": 5
}
