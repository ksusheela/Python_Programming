{
 "cells": [
  {
   "cell_type": "code",
   "execution_count": 1,
   "id": "9eea3460",
   "metadata": {},
   "outputs": [],
   "source": [
    "# Question 1:\n",
    "# Define a class with a generator which can iterate the numbers, which are divisible by\n",
    "# 7, between a given range 0 and n."
   ]
  },
  {
   "cell_type": "code",
   "execution_count": 20,
   "id": "3d39b14f",
   "metadata": {},
   "outputs": [],
   "source": [
    "class DivisibleBySeven:\n",
    "    def __init__(self, n):\n",
    "        self.n = n\n",
    "        \n",
    "    def divisible_by_seven(self):\n",
    "        for i in range(self.n+1):\n",
    "            if i % 7 == 0:\n",
    "                yield  i\n"
   ]
  },
  {
   "cell_type": "code",
   "execution_count": 22,
   "id": "1f92beeb",
   "metadata": {},
   "outputs": [
    {
     "name": "stdout",
     "output_type": "stream",
     "text": [
      "0\n",
      "7\n",
      "14\n",
      "21\n",
      "28\n",
      "35\n",
      "42\n",
      "49\n",
      "56\n",
      "63\n",
      "70\n",
      "77\n",
      "84\n",
      "91\n",
      "98\n"
     ]
    }
   ],
   "source": [
    "db = DivisibleBySeven(100)\n",
    "for num in db.divisible_by_seven():\n",
    "    print(num)\n"
   ]
  },
  {
   "cell_type": "code",
   "execution_count": 4,
   "id": "1266ad16",
   "metadata": {},
   "outputs": [],
   "source": [
    "# Question 2:\n",
    "# Write a program to compute the frequency of the words from the input. The output\n",
    "# should output after sorting the key alphanumerically.\n",
    "# Suppose the following input is supplied to the program:\n",
    "# New to Python or choosing between Python 2 and Python 3? Read Python 2 or\n",
    "# Python 3.\n",
    "# Then, the output should be:\n",
    "# 2:2\n",
    "# 3.:1\n",
    "# 3?:1\n",
    "# New:1\n",
    "# Python:5\n",
    "# Read:1\n",
    "# and:1\n",
    "# between:1\n",
    "# choosing:1\n",
    "# or:2\n",
    "# to:1"
   ]
  },
  {
   "cell_type": "code",
   "execution_count": 5,
   "id": "d06bca1a",
   "metadata": {},
   "outputs": [
    {
     "name": "stdout",
     "output_type": "stream",
     "text": [
      "2:2\n",
      "3.:1\n",
      "3?:1\n",
      "New:1\n",
      "Python:5\n",
      "Read:1\n",
      "and:1\n",
      "between:1\n",
      "choosing:1\n",
      "or:2\n",
      "to:1\n"
     ]
    }
   ],
   "source": [
    "from collections import defaultdict\n",
    "\n",
    "def word_frequency(input_str):\n",
    "    words = input_str.split()\n",
    "    freq = defaultdict(int)\n",
    "    for word in words:\n",
    "        freq[word] += 1\n",
    "\n",
    "    sorted_freq = sorted(freq.items(), key=lambda x: x[0])\n",
    "    for word, count in sorted_freq:\n",
    "        print(f\"{word}:{count}\")\n",
    "\n",
    "input_str = \"New to Python or choosing between Python 2 and Python 3? Read Python 2 or Python 3.\"\n",
    "word_frequency(input_str)\n"
   ]
  },
  {
   "cell_type": "code",
   "execution_count": 7,
   "id": "01d6963e",
   "metadata": {},
   "outputs": [],
   "source": [
    "# Question 3:\n",
    "# Define a class Person and its two child classes: Male and Female. All classes have a\n",
    "# method &quot;getGender&quot; which can print &quot;Male&quot; for Male class and &quot;Female&quot; for Female\n",
    "# class."
   ]
  },
  {
   "cell_type": "code",
   "execution_count": 8,
   "id": "638d9621",
   "metadata": {},
   "outputs": [],
   "source": [
    "class Person:\n",
    "    def getGender(self):\n",
    "        return \"Unknown\"\n",
    "\n",
    "class Male(Person):\n",
    "    def getGender(self):\n",
    "        return \"Male\"\n",
    "\n",
    "class Female(Person):\n",
    "    def getGender(self):\n",
    "        return \"Female\"\n"
   ]
  },
  {
   "cell_type": "code",
   "execution_count": 9,
   "id": "5f31c602",
   "metadata": {},
   "outputs": [
    {
     "name": "stdout",
     "output_type": "stream",
     "text": [
      "Unknown\n",
      "Male\n",
      "Female\n"
     ]
    }
   ],
   "source": [
    "person = Person()\n",
    "print(person.getGender())  # Output: Unknown\n",
    "\n",
    "male = Male()\n",
    "print(male.getGender())  # Output: Male\n",
    "\n",
    "female = Female()\n",
    "print(female.getGender())  # Output: Female\n"
   ]
  },
  {
   "cell_type": "code",
   "execution_count": 10,
   "id": "16a0bd79",
   "metadata": {},
   "outputs": [],
   "source": [
    "# Question 4:\n",
    "# Please write a program to generate all sentences where subject is in [&quot;I&quot;, &quot;You&quot;]\n",
    "# and verb is in [&quot;Play&quot;, &quot;Love&quot;]\n",
    "# and the object is in [&quot;Hockey&quot;,&quot;Football&quot;]."
   ]
  },
  {
   "cell_type": "code",
   "execution_count": 12,
   "id": "ecd7f2e9",
   "metadata": {},
   "outputs": [
    {
     "name": "stdout",
     "output_type": "stream",
     "text": [
      "['I Play Hockey.', 'I Play Football.', 'I Love Hockey.', 'I Love Football.', 'You Play Hockey.', 'You Play Football.', 'You Love Hockey.', 'You Love Football.']\n"
     ]
    }
   ],
   "source": [
    "subjects = [\"I\", \"You\"]\n",
    "verbs = [\"Play\", \"Love\"]\n",
    "objects = [\"Hockey\", \"Football\"]\n",
    "\n",
    "sentences = []\n",
    "\n",
    "for subject in subjects:\n",
    "    for verb in verbs:\n",
    "        for obj in objects:\n",
    "            sentence = f\"{subject} {verb} {obj}.\"\n",
    "            sentences.append(sentence)\n",
    "\n",
    "print(sentences)\n"
   ]
  },
  {
   "cell_type": "code",
   "execution_count": 13,
   "id": "f41528be",
   "metadata": {},
   "outputs": [],
   "source": [
    "# Question 5:\n",
    "# Please write a program to compress and decompress the string &quot;hello world!hello\n",
    "# world!hello world!hello world!&quot;."
   ]
  },
  {
   "cell_type": "code",
   "execution_count": 14,
   "id": "05f7f294",
   "metadata": {},
   "outputs": [
    {
     "name": "stdout",
     "output_type": "stream",
     "text": [
      "b'x\\x9c\\xcbH\\xcd\\xc9\\xc9W(\\xcf/\\xcaIQ\\xcc \\x82\\r\\x00\\xbd[\\x11\\xf5'\n",
      "hello world!hello world!hello world!hello world!\n"
     ]
    }
   ],
   "source": [
    "import zlib\n",
    "\n",
    "# string to compress\n",
    "string = \"hello world!hello world!hello world!hello world!\"\n",
    "\n",
    "# compress the string\n",
    "compressed_string = zlib.compress(bytes(string, \"utf-8\"))\n",
    "\n",
    "# print the compressed string\n",
    "print(compressed_string)\n",
    "\n",
    "# decompress the string\n",
    "decompressed_string = zlib.decompress(compressed_string)\n",
    "\n",
    "# print the original string\n",
    "print(decompressed_string.decode(\"utf-8\"))\n"
   ]
  },
  {
   "cell_type": "code",
   "execution_count": 15,
   "id": "0f0a8d5a",
   "metadata": {},
   "outputs": [],
   "source": [
    "# Question 6:\n",
    "# Please write a binary search function which searches an item in a sorted list. The\n",
    "# function should return the index of element to be searched in the list."
   ]
  },
  {
   "cell_type": "code",
   "execution_count": 16,
   "id": "1adfa35f",
   "metadata": {},
   "outputs": [],
   "source": [
    "def binary_search(arr, x):\n",
    "    \"\"\"\n",
    "    This function implements binary search to find the index of the given element in a sorted list.\n",
    "\n",
    "    Parameters:\n",
    "        arr (list): A sorted list of elements\n",
    "        x (any): The element to be searched in the list\n",
    "    \n",
    "    Returns:\n",
    "        int: The index of the element if it is found, else -1\n",
    "    \"\"\"\n",
    "    left, right = 0, len(arr) - 1\n",
    "\n",
    "    while left <= right:\n",
    "        mid = (left + right) // 2\n",
    "\n",
    "        if arr[mid] == x:\n",
    "            return mid\n",
    "        elif arr[mid] < x:\n",
    "            left = mid + 1\n",
    "        else:\n",
    "            right = mid - 1\n",
    "\n",
    "    return -1\n"
   ]
  },
  {
   "cell_type": "code",
   "execution_count": 17,
   "id": "26eb7122",
   "metadata": {},
   "outputs": [
    {
     "name": "stdout",
     "output_type": "stream",
     "text": [
      "Element 23 is present at index 5.\n"
     ]
    }
   ],
   "source": [
    "arr = [2, 5, 8, 12, 16, 23, 38, 56, 72, 91]\n",
    "x = 23\n",
    "\n",
    "result = binary_search(arr, x)\n",
    "\n",
    "if result != -1:\n",
    "    print(f\"Element {x} is present at index {result}.\")\n",
    "else:\n",
    "    print(f\"Element {x} is not present in the list.\")\n"
   ]
  },
  {
   "cell_type": "code",
   "execution_count": null,
   "id": "c55a1ea3",
   "metadata": {},
   "outputs": [],
   "source": []
  }
 ],
 "metadata": {
  "kernelspec": {
   "display_name": "Python 3 (ipykernel)",
   "language": "python",
   "name": "python3"
  },
  "language_info": {
   "codemirror_mode": {
    "name": "ipython",
    "version": 3
   },
   "file_extension": ".py",
   "mimetype": "text/x-python",
   "name": "python",
   "nbconvert_exporter": "python",
   "pygments_lexer": "ipython3",
   "version": "3.9.12"
  }
 },
 "nbformat": 4,
 "nbformat_minor": 5
}
