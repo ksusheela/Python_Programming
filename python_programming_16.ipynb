{
 "cells": [
  {
   "cell_type": "code",
   "execution_count": 3,
   "id": "a34c8602",
   "metadata": {},
   "outputs": [
    {
     "data": {
      "text/plain": [
       "'Ha... Ha... Hasya?'"
      ]
     },
     "execution_count": 3,
     "metadata": {},
     "output_type": "execute_result"
    }
   ],
   "source": [
    "# Question1. Write a function that stutters a word as if someone is struggling to read it. The\n",
    "# first two letters are repeated twice with an ellipsis ... and space after each, and then the\n",
    "# word is pronounced with a question mark ?.\n",
    "\n",
    "def stutter(word):\n",
    "    stuttered_word = word[0:2] + \"... \"\n",
    "    stuttered_word += word[0:2] + \"... \"\n",
    "    stuttered_word += word + \"?\"\n",
    "    return stuttered_word\n",
    "stutter(\"Pradeep\")\n",
    "\n",
    "stutter(\"Halya\")\n",
    "stutter(\"Hasya\")"
   ]
  },
  {
   "cell_type": "code",
   "execution_count": null,
   "id": "6ab6eb74",
   "metadata": {},
   "outputs": [],
   "source": [
    "# Question 2.Create a function that takes an angle in radians and returns the corresponding\n",
    "# angle in degrees rounded to one decimal place."
   ]
  },
  {
   "cell_type": "code",
   "execution_count": 7,
   "id": "581e4091",
   "metadata": {},
   "outputs": [
    {
     "data": {
      "text/plain": [
       "42.192"
      ]
     },
     "execution_count": 7,
     "metadata": {},
     "output_type": "execute_result"
    }
   ],
   "source": [
    "import math\n",
    "\n",
    "def radians_to_degrees(radians):\n",
    "    degrees = math.degrees(radians)\n",
    "    return round(degrees, 3)\n",
    "radians_to_degrees(0.736389729)\n",
    "\n"
   ]
  },
  {
   "cell_type": "code",
   "execution_count": null,
   "id": "9c0d19b7",
   "metadata": {},
   "outputs": [],
   "source": [
    "# Question 3. In this challenge, establish if a given integer num is a Curzon number. If 1 plus\n",
    "# 2 elevated to num is exactly divisible by 1 plus 2 multiplied by num, then num is a Curzon\n",
    "# number.\n",
    "# Given a non-negative integer num, implement a function that returns True if num is a Curzon\n",
    "# number, or False otherwise."
   ]
  },
  {
   "cell_type": "code",
   "execution_count": 8,
   "id": "fbd3a46a",
   "metadata": {},
   "outputs": [
    {
     "data": {
      "text/plain": [
       "True"
      ]
     },
     "execution_count": 8,
     "metadata": {},
     "output_type": "execute_result"
    }
   ],
   "source": [
    "def is_curzon_number(num):\n",
    "    numerator = 2**num + 1 ## 33\n",
    "    denominator = 2*num + 1 ## 11\n",
    "    return numerator % denominator == 0\n",
    "is_curzon_number(5)\n",
    "\n"
   ]
  },
  {
   "cell_type": "code",
   "execution_count": null,
   "id": "336808fc",
   "metadata": {},
   "outputs": [],
   "source": [
    "# Question 4.Given the side length x find the area of a hexagon."
   ]
  },
  {
   "cell_type": "code",
   "execution_count": 10,
   "id": "d6072deb",
   "metadata": {},
   "outputs": [
    {
     "data": {
      "text/plain": [
       "64.9519052838329"
      ]
     },
     "execution_count": 10,
     "metadata": {},
     "output_type": "execute_result"
    }
   ],
   "source": [
    "#Area = (3 * sqrt(3) * x^2) / 2\n",
    "import math\n",
    "\n",
    "def hexagon_area(x):\n",
    "    area = (3 * math.sqrt(3) * x**2) / 2\n",
    "    return area\n",
    "hexagon_area(5)\n"
   ]
  },
  {
   "cell_type": "code",
   "execution_count": null,
   "id": "d155580f",
   "metadata": {},
   "outputs": [],
   "source": [
    "# Question 5. Create a function that returns a base-2 (binary) representation of a base-10\n",
    "# (decimal) string number. To convert is simple: ((2) means base-2 and (10) means base-10)\n",
    "# 010101001(2) = 1 + 8 + 32 + 128.\n",
    "# Going from right to left, the value of the most right bit is 1, now from that every bit to the left\n",
    "# will be x2 the value, value of an 8 bit binary numbers are (256, 128, 64, 32, 16, 8, 4, 2, 1)."
   ]
  },
  {
   "cell_type": "code",
   "execution_count": 11,
   "id": "80b30ced",
   "metadata": {},
   "outputs": [
    {
     "data": {
      "text/plain": [
       "'101010'"
      ]
     },
     "execution_count": 11,
     "metadata": {},
     "output_type": "execute_result"
    }
   ],
   "source": [
    "def decimal_to_binary(decimal_str):\n",
    "    decimal_num = int(decimal_str)\n",
    "    binary_str = \"\"\n",
    "    while decimal_num > 0:\n",
    "        remainder = decimal_num % 2\n",
    "        binary_str = str(remainder) + binary_str\n",
    "        decimal_num //= 2\n",
    "    return binary_str\n",
    "decimal_to_binary(\"42\")\n",
    "\n"
   ]
  },
  {
   "cell_type": "code",
   "execution_count": null,
   "id": "b4330b6b",
   "metadata": {},
   "outputs": [],
   "source": []
  }
 ],
 "metadata": {
  "kernelspec": {
   "display_name": "Python 3 (ipykernel)",
   "language": "python",
   "name": "python3"
  },
  "language_info": {
   "codemirror_mode": {
    "name": "ipython",
    "version": 3
   },
   "file_extension": ".py",
   "mimetype": "text/x-python",
   "name": "python",
   "nbconvert_exporter": "python",
   "pygments_lexer": "ipython3",
   "version": "3.9.12"
  }
 },
 "nbformat": 4,
 "nbformat_minor": 5
}
