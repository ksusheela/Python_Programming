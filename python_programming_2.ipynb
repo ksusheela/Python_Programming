{
 "cells": [
  {
   "cell_type": "markdown",
   "id": "bffd0d67",
   "metadata": {},
   "source": [
    "## 1. Write a Python program to convert kilometers to miles?"
   ]
  },
  {
   "cell_type": "code",
   "execution_count": 1,
   "id": "d04b447a",
   "metadata": {},
   "outputs": [
    {
     "name": "stdout",
     "output_type": "stream",
     "text": [
      "Enter distance in kilometers: 3\n",
      "3.0 kilometers is equal to 1.86 miles.\n"
     ]
    }
   ],
   "source": [
    "# Taking input from the user\n",
    "kilometers = float(input(\"Enter distance in kilometers: \"))\n",
    "\n",
    "# Conversion factor\n",
    "conv_fac = 0.621371\n",
    "\n",
    "# Calculating miles\n",
    "miles = kilometers * conv_fac\n",
    "\n",
    "# Displaying the result\n",
    "print(f\"{kilometers} kilometers is equal to {miles:.2f} miles.\")\n"
   ]
  },
  {
   "cell_type": "markdown",
   "id": "4e04ef2e",
   "metadata": {},
   "source": [
    "## 2. Write a Python program to convert Celsius to Fahrenheit?"
   ]
  },
  {
   "cell_type": "code",
   "execution_count": 2,
   "id": "06feda03",
   "metadata": {},
   "outputs": [
    {
     "name": "stdout",
     "output_type": "stream",
     "text": [
      "Enter temperature in Celsius: 35\n",
      "35.0 degree Celsius is equal to 95.00 degree Fahrenheit.\n"
     ]
    }
   ],
   "source": [
    "# Taking input from the user\n",
    "celsius = float(input(\"Enter temperature in Celsius: \"))\n",
    "\n",
    "# Converting temperature to Fahrenheit\n",
    "fahrenheit = (celsius * 9/5) + 32\n",
    "# Converting temperature to f to c\n",
    "#c=(f-32)*5/9\n",
    "\n",
    "# Displaying the result\n",
    "print(f\"{celsius} degree Celsius is equal to {fahrenheit:.2f} degree Fahrenheit.\")\n"
   ]
  },
  {
   "cell_type": "markdown",
   "id": "7bf48680",
   "metadata": {},
   "source": [
    "##  3. Write a Python program to display calendar?"
   ]
  },
  {
   "cell_type": "code",
   "execution_count": 3,
   "id": "79d447d2",
   "metadata": {},
   "outputs": [
    {
     "name": "stdout",
     "output_type": "stream",
     "text": [
      "Enter the year: 2001\n",
      "Enter the month (1-12): 6\n",
      "     June 2001\n",
      "Mo Tu We Th Fr Sa Su\n",
      "             1  2  3\n",
      " 4  5  6  7  8  9 10\n",
      "11 12 13 14 15 16 17\n",
      "18 19 20 21 22 23 24\n",
      "25 26 27 28 29 30\n",
      "\n"
     ]
    }
   ],
   "source": [
    "# Importing calendar module\n",
    "import calendar\n",
    "\n",
    "# Taking input from the user\n",
    "year = int(input(\"Enter the year: \"))\n",
    "month = int(input(\"Enter the month (1-12): \"))\n",
    "\n",
    "# Displaying the calendar\n",
    "print(calendar.month(year, month))\n"
   ]
  },
  {
   "cell_type": "markdown",
   "id": "7fc8848d",
   "metadata": {},
   "source": [
    "## 4. Write a Python program to solve quadratic equation?"
   ]
  },
  {
   "cell_type": "code",
   "execution_count": 4,
   "id": "d83d8984",
   "metadata": {},
   "outputs": [
    {
     "name": "stdout",
     "output_type": "stream",
     "text": [
      "Enter the value of coefficient a: 4\n",
      "Enter the value of coefficient b: 4\n",
      "Enter the value of coefficient c: 6\n",
      "The roots are complex: -0.50 + 1.12i and -0.50 - 1.12i\n"
     ]
    }
   ],
   "source": [
    "# Importing math module\n",
    "import math\n",
    "\n",
    "# Taking input from the user\n",
    "a = float(input(\"Enter the value of coefficient a: \"))\n",
    "b = float(input(\"Enter the value of coefficient b: \"))\n",
    "c = float(input(\"Enter the value of coefficient c: \"))\n",
    "\n",
    "# Calculating discriminant\n",
    "discriminant = b**2 - 4*a*c\n",
    "\n",
    "# Checking if the discriminant is positive, negative, or zero\n",
    "if discriminant > 0:\n",
    "    root1 = (-b + math.sqrt(discriminant)) / (2*a)\n",
    "    root2 = (-b - math.sqrt(discriminant)) / (2*a)\n",
    "    print(f\"The roots are real and distinct: {root1:.2f} and {root2:.2f}\")\n",
    "elif discriminant == 0:\n",
    "    root = -b / (2*a)\n",
    "    print(f\"The root is real and equal: {root:.2f}\")\n",
    "else:\n",
    "    real_part = -b / (2*a)\n",
    "    imag_part = math.sqrt(-discriminant) / (2*a)\n",
    "    print(f\"The roots are complex: {real_part:.2f} + {imag_part:.2f}i and {real_part:.2f} - {imag_part:.2f}i\")\n"
   ]
  },
  {
   "cell_type": "markdown",
   "id": "0ee96e84",
   "metadata": {},
   "source": [
    "## 5. Write a Python program to swap two variables without temp variable?"
   ]
  },
  {
   "cell_type": "code",
   "execution_count": 5,
   "id": "0d631170",
   "metadata": {},
   "outputs": [
    {
     "name": "stdout",
     "output_type": "stream",
     "text": [
      "Enter the value of x: 4\n",
      "Enter the value of y: 5\n",
      "After swapping, the value of x is 5.0 and the value of y is 4.0.\n"
     ]
    }
   ],
   "source": [
    "# Taking input from the user\n",
    "x = float(input(\"Enter the value of x: \"))\n",
    "y = float(input(\"Enter the value of y: \"))\n",
    "\n",
    "# Swapping the variables\n",
    "x, y = y, x\n",
    "\n",
    "# Displaying the swapped variables\n",
    "print(f\"After swapping, the value of x is {x} and the value of y is {y}.\")\n"
   ]
  },
  {
   "cell_type": "code",
   "execution_count": null,
   "id": "0aea5143",
   "metadata": {},
   "outputs": [],
   "source": []
  }
 ],
 "metadata": {
  "kernelspec": {
   "display_name": "Python 3 (ipykernel)",
   "language": "python",
   "name": "python3"
  },
  "language_info": {
   "codemirror_mode": {
    "name": "ipython",
    "version": 3
   },
   "file_extension": ".py",
   "mimetype": "text/x-python",
   "name": "python",
   "nbconvert_exporter": "python",
   "pygments_lexer": "ipython3",
   "version": "3.9.12"
  }
 },
 "nbformat": 4,
 "nbformat_minor": 5
}
