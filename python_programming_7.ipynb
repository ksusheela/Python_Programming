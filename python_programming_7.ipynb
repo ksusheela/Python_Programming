{
 "cells": [
  {
   "cell_type": "markdown",
   "id": "323294bc",
   "metadata": {},
   "source": [
    "## 1. Write a Python Program to find sum of array?"
   ]
  },
  {
   "cell_type": "code",
   "execution_count": 1,
   "id": "8545692f",
   "metadata": {},
   "outputs": [
    {
     "name": "stdout",
     "output_type": "stream",
     "text": [
      "The sum of the array is 15\n"
     ]
    }
   ],
   "source": [
    "arr = [1, 2, 3, 4, 5]\n",
    "\n",
    "sum = 0\n",
    "\n",
    "for num in arr:\n",
    "    sum += num\n",
    "\n",
    "print(f\"The sum of the array is {sum}\")\n"
   ]
  },
  {
   "cell_type": "markdown",
   "id": "b75fba0b",
   "metadata": {},
   "source": [
    "## 2. Write a Python Program to find largest element in an array?"
   ]
  },
  {
   "cell_type": "code",
   "execution_count": 2,
   "id": "cbe1e597",
   "metadata": {},
   "outputs": [
    {
     "name": "stdout",
     "output_type": "stream",
     "text": [
      "The largest element in the array is 10\n"
     ]
    }
   ],
   "source": [
    "arr = [5, 8, 2, 10, 3]\n",
    "\n",
    "max = arr[0]\n",
    "\n",
    "for num in arr:\n",
    "    if num > max:\n",
    "        max = num\n",
    "\n",
    "print(f\"The largest element in the array is {max}\")\n"
   ]
  },
  {
   "cell_type": "markdown",
   "id": "71925134",
   "metadata": {},
   "source": [
    "## 3. Write a Python Program for array rotation?"
   ]
  },
  {
   "cell_type": "code",
   "execution_count": 3,
   "id": "04ab32da",
   "metadata": {},
   "outputs": [
    {
     "name": "stdout",
     "output_type": "stream",
     "text": [
      "Original array: [1, 2, 3, 4, 5]\n",
      "Array after left rotation: [3, 4, 5, 1, 2]\n"
     ]
    }
   ],
   "source": [
    "def rotate_array_left(arr, n):\n",
    "    for i in range(n):\n",
    "        temp = arr[0]\n",
    "        for j in range(len(arr)-1):\n",
    "            arr[j] = arr[j+1]\n",
    "        arr[-1] = temp\n",
    "\n",
    "arr = [1, 2, 3, 4, 5]\n",
    "n = 2\n",
    "\n",
    "print(\"Original array:\", arr)\n",
    "\n",
    "rotate_array_left(arr, n)\n",
    "\n",
    "print(\"Array after left rotation:\", arr)\n"
   ]
  },
  {
   "cell_type": "markdown",
   "id": "256b5c99",
   "metadata": {},
   "source": [
    "## 4. Write a Python Program to Split the array and add the first part to the end?"
   ]
  },
  {
   "cell_type": "code",
   "execution_count": 4,
   "id": "fc58de4e",
   "metadata": {},
   "outputs": [
    {
     "name": "stdout",
     "output_type": "stream",
     "text": [
      "Original array: [1, 2, 3, 4, 5]\n",
      "Array after splitting and adding: [3, 4, 5, 1, 2]\n"
     ]
    }
   ],
   "source": [
    "def split_and_add(arr, n):\n",
    "    arr = arr[n:] + arr[:n]\n",
    "    return arr\n",
    "\n",
    "arr = [1, 2, 3, 4, 5]\n",
    "n = 2\n",
    "\n",
    "print(\"Original array:\", arr)\n",
    "\n",
    "arr = split_and_add(arr, n)\n",
    "\n",
    "print(\"Array after splitting and adding:\", arr)\n"
   ]
  },
  {
   "cell_type": "markdown",
   "id": "6fed5c20",
   "metadata": {},
   "source": [
    "## 5. Write a Python Program to check if given array is Monotonic?"
   ]
  },
  {
   "cell_type": "code",
   "execution_count": 5,
   "id": "f1c1ad60",
   "metadata": {},
   "outputs": [
    {
     "name": "stdout",
     "output_type": "stream",
     "text": [
      "Is array monotonic? True\n",
      "Is array monotonic? True\n",
      "Is array monotonic? False\n"
     ]
    }
   ],
   "source": [
    "def is_monotonic(arr):\n",
    "    increasing = decreasing = True\n",
    "    for i in range(1, len(arr)):\n",
    "        if arr[i] < arr[i-1]:\n",
    "            increasing = False\n",
    "        if arr[i] > arr[i-1]:\n",
    "            decreasing = False\n",
    "    return increasing or decreasing\n",
    "\n",
    "arr = [1, 2, 3, 4, 5]\n",
    "print(\"Is array monotonic?\", is_monotonic(arr))\n",
    "\n",
    "arr = [5, 4, 3, 2, 1]\n",
    "print(\"Is array monotonic?\", is_monotonic(arr))\n",
    "\n",
    "arr = [1, 3, 2, 4, 5]\n",
    "print(\"Is array monotonic?\", is_monotonic(arr))\n"
   ]
  },
  {
   "cell_type": "code",
   "execution_count": null,
   "id": "8701a9c7",
   "metadata": {},
   "outputs": [],
   "source": []
  }
 ],
 "metadata": {
  "kernelspec": {
   "display_name": "Python 3 (ipykernel)",
   "language": "python",
   "name": "python3"
  },
  "language_info": {
   "codemirror_mode": {
    "name": "ipython",
    "version": 3
   },
   "file_extension": ".py",
   "mimetype": "text/x-python",
   "name": "python",
   "nbconvert_exporter": "python",
   "pygments_lexer": "ipython3",
   "version": "3.9.12"
  }
 },
 "nbformat": 4,
 "nbformat_minor": 5
}
