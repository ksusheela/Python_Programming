{
 "cells": [
  {
   "cell_type": "markdown",
   "id": "532d5613",
   "metadata": {},
   "source": [
    "## 1. Write a Python Program to Find the Factorial of a Number?"
   ]
  },
  {
   "cell_type": "code",
   "execution_count": 2,
   "id": "a5df067c",
   "metadata": {},
   "outputs": [
    {
     "name": "stdout",
     "output_type": "stream",
     "text": [
      "Enter a number5\n",
      "120\n"
     ]
    }
   ],
   "source": [
    "n=int(input(\"Enter a number\"))\n",
    "def fact(a):\n",
    "    if a<=1:\n",
    "        return 1\n",
    "    else:\n",
    "        return a*fact(a-1)\n",
    "print(fact(n))\n",
    "    "
   ]
  },
  {
   "cell_type": "markdown",
   "id": "c3a3c53b",
   "metadata": {},
   "source": [
    "## 2. Write a Python Program to Display the multiplication Table?"
   ]
  },
  {
   "cell_type": "code",
   "execution_count": 9,
   "id": "ada3659b",
   "metadata": {},
   "outputs": [
    {
     "name": "stdout",
     "output_type": "stream",
     "text": [
      "Enter a number5\n",
      "5 * 1 = 5\n",
      "5 * 2 = 10\n",
      "5 * 3 = 15\n",
      "5 * 4 = 20\n",
      "5 * 5 = 25\n",
      "5 * 6 = 30\n",
      "5 * 7 = 35\n",
      "5 * 8 = 40\n",
      "5 * 9 = 45\n",
      "5 * 10 = 50\n",
      "None\n"
     ]
    }
   ],
   "source": [
    "n=int(input(\"Enter a number\"))\n",
    "def multi(n):\n",
    "    for i in range(1,11):\n",
    "        print(f'{n} * {i} =',n*i)\n",
    "print(multi(n))"
   ]
  },
  {
   "cell_type": "markdown",
   "id": "c031aa54",
   "metadata": {},
   "source": [
    "## 3. Write a Python Program to Print the Fibonacci sequence?"
   ]
  },
  {
   "cell_type": "code",
   "execution_count": 12,
   "id": "12f2a226",
   "metadata": {},
   "outputs": [
    {
     "name": "stdout",
     "output_type": "stream",
     "text": [
      "Enter the number of terms: 7\n",
      "Fibonacci sequence:\n",
      "0\n",
      "1\n",
      "1\n",
      "2\n",
      "3\n",
      "5\n",
      "8\n"
     ]
    }
   ],
   "source": [
    "# Taking input from the user\n",
    "n = int(input(\"Enter the number of terms: \"))\n",
    "\n",
    "# Initializing the first two terms\n",
    "a, b = 0, 1\n",
    "\n",
    "# Printing the Fibonacci sequence\n",
    "if n <= 0:\n",
    "    print(\"Please enter a positive integer.\")\n",
    "elif n == 1:\n",
    "    print(\"Fibonacci sequence:\")\n",
    "    print(a)\n",
    "else:\n",
    "    print(\"Fibonacci sequence:\")\n",
    "    print(a)\n",
    "    print(b)\n",
    "    for i in range(2, n):\n",
    "        c = a + b\n",
    "        a = b\n",
    "        b = c\n",
    "        print(c)\n"
   ]
  },
  {
   "cell_type": "markdown",
   "id": "c203837c",
   "metadata": {},
   "source": [
    "## 4. Write a Python Program to Check Armstrong Number?"
   ]
  },
  {
   "cell_type": "code",
   "execution_count": 14,
   "id": "8fe661c7",
   "metadata": {},
   "outputs": [
    {
     "name": "stdout",
     "output_type": "stream",
     "text": [
      "Enter a number: 27\n",
      "27 is not an Armstrong number.\n"
     ]
    }
   ],
   "source": [
    "# Taking input from the user\n",
    "num = int(input(\"Enter a number: \"))\n",
    "\n",
    "# Initializing sum and temp variables\n",
    "sum = 0\n",
    "temp = num\n",
    "\n",
    "# Calculating the sum of the cubes of the digits\n",
    "while temp > 0:\n",
    "    digit = temp % 10\n",
    "    sum += digit ** 3\n",
    "    temp //= 10\n",
    "\n",
    "# Checking if the number is an Armstrong number\n",
    "if num == sum:\n",
    "    print(f\"{num} is an Armstrong number.\")\n",
    "else:\n",
    "    print(f\"{num} is not an Armstrong number.\")\n"
   ]
  },
  {
   "cell_type": "markdown",
   "id": "a36d925d",
   "metadata": {},
   "source": [
    "## 5. Write a Python Program to Find Armstrong Number in an Interval?"
   ]
  },
  {
   "cell_type": "code",
   "execution_count": 18,
   "id": "4a301c72",
   "metadata": {},
   "outputs": [
    {
     "name": "stdout",
     "output_type": "stream",
     "text": [
      "Enter the lower limit of the interval: 100\n",
      "Enter the upper limit of the interval: 200\n",
      "Armstrong numbers between 100 and 200 are:\n",
      "153\n"
     ]
    }
   ],
   "source": [
    "# Taking input from the user\n",
    "lower = int(input(\"Enter the lower limit of the interval: \"))\n",
    "upper = int(input(\"Enter the upper limit of the interval: \"))\n",
    "\n",
    "print(f\"Armstrong numbers between {lower} and {upper} are:\")\n",
    "\n",
    "# Checking Armstrong numbers in the interval\n",
    "for num in range(lower, upper+1):\n",
    "    # Initializing sum and temp variables\n",
    "    sum = 0\n",
    "    temp = num\n",
    "    # Calculating the sum of the cubes of the digits\n",
    "    while temp > 0:\n",
    "        digit = temp % 10\n",
    "        sum += digit ** 3\n",
    "        temp //= 10\n",
    "    # Checking if the number is an Armstrong number\n",
    "    if num == sum:\n",
    "        print(num)\n"
   ]
  },
  {
   "cell_type": "markdown",
   "id": "f30f5d42",
   "metadata": {},
   "source": [
    "## 6. Write a Python Program to Find the Sum of Natural Numbers?"
   ]
  },
  {
   "cell_type": "code",
   "execution_count": 19,
   "id": "cd25916f",
   "metadata": {},
   "outputs": [
    {
     "name": "stdout",
     "output_type": "stream",
     "text": [
      "Enter a positive integer: 5\n",
      "The sum of natural numbers up to 5 is 15.\n"
     ]
    }
   ],
   "source": [
    "# Taking input from the user\n",
    "num = int(input(\"Enter a positive integer: \"))\n",
    "\n",
    "# Initializing the sum variable\n",
    "sum = 0\n",
    "\n",
    "# Calculating the sum of natural numbers up to num\n",
    "for i in range(1, num+1):\n",
    "    sum += i\n",
    "\n",
    "# Printing the sum\n",
    "print(f\"The sum of natural numbers up to {num} is {sum}.\")\n"
   ]
  },
  {
   "cell_type": "code",
   "execution_count": null,
   "id": "98fab1d1",
   "metadata": {},
   "outputs": [],
   "source": []
  }
 ],
 "metadata": {
  "kernelspec": {
   "display_name": "Python 3 (ipykernel)",
   "language": "python",
   "name": "python3"
  },
  "language_info": {
   "codemirror_mode": {
    "name": "ipython",
    "version": 3
   },
   "file_extension": ".py",
   "mimetype": "text/x-python",
   "name": "python",
   "nbconvert_exporter": "python",
   "pygments_lexer": "ipython3",
   "version": "3.9.12"
  }
 },
 "nbformat": 4,
 "nbformat_minor": 5
}
