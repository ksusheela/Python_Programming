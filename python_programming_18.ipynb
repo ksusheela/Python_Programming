{
 "cells": [
  {
   "cell_type": "code",
   "execution_count": 1,
   "id": "d0d9d6fc",
   "metadata": {},
   "outputs": [],
   "source": [
    "# Question 1\n",
    "# Create a function that takes a list of non-negative integers and strings and return a new list\n",
    "# without the strings."
   ]
  },
  {
   "cell_type": "code",
   "execution_count": 2,
   "id": "8362923b",
   "metadata": {},
   "outputs": [
    {
     "data": {
      "text/plain": [
       "[1, 0]"
      ]
     },
     "execution_count": 2,
     "metadata": {},
     "output_type": "execute_result"
    }
   ],
   "source": [
    "def filter_integers(lst):\n",
    "    return [num for num in lst if type(num) == int and num >= 0]\n",
    "filter_integers([1, -2, '3', 4.5, '5', 0])"
   ]
  },
  {
   "cell_type": "code",
   "execution_count": 3,
   "id": "274288b0",
   "metadata": {},
   "outputs": [],
   "source": [
    "# Question 2\n",
    "# The &quot;Reverser&quot; takes a string as input and returns that string in reverse order, with the\n",
    "# opposite case."
   ]
  },
  {
   "cell_type": "code",
   "execution_count": 4,
   "id": "b25e032b",
   "metadata": {},
   "outputs": [
    {
     "data": {
      "text/plain": [
       "'!DLROw ,OLLEh'"
      ]
     },
     "execution_count": 4,
     "metadata": {},
     "output_type": "execute_result"
    }
   ],
   "source": [
    "def reverse_and_swap_case(string):\n",
    "    # Reverse the string\n",
    "    reversed_string = string[::-1]\n",
    "    \n",
    "    # Swap case\n",
    "    swapped_case_string = reversed_string.swapcase()\n",
    "    \n",
    "    return swapped_case_string\n",
    "reverse_and_swap_case('Hello, World!')"
   ]
  },
  {
   "cell_type": "code",
   "execution_count": 5,
   "id": "5c178d09",
   "metadata": {},
   "outputs": [],
   "source": [
    "# Question 3\n",
    "# You can assign variables from lists like this:\n",
    "# lst = [1, 2, 3, 4, 5, 6]\n",
    "# first = lst[0]\n",
    "# middle = lst[1:-1]\n",
    "# last = lst[-1]\n",
    "# print(first) ➞ outputs 1\n",
    "# print(middle) ➞ outputs [2, 3, 4, 5]\n",
    "# print(last) ➞ outputs 6\n",
    "# With Python 3, you can assign variables from lists in a much more succinct way. Create\n",
    "# variables first, middle and last from the given list using destructuring assignment\n",
    "# (check the Resources tab for some examples), where:"
   ]
  },
  {
   "cell_type": "code",
   "execution_count": 6,
   "id": "f47797bc",
   "metadata": {},
   "outputs": [
    {
     "name": "stdout",
     "output_type": "stream",
     "text": [
      "1\n",
      "[2, 3, 4, 5]\n",
      "6\n"
     ]
    }
   ],
   "source": [
    "lst = [1, 2, 3, 4, 5, 6]\n",
    "first, *middle, last = lst\n",
    "\n",
    "print(first)    # 1\n",
    "print(middle)   # [2, 3, 4, 5]\n",
    "print(last)     # 6\n"
   ]
  },
  {
   "cell_type": "code",
   "execution_count": 7,
   "id": "aeb1c8e0",
   "metadata": {},
   "outputs": [],
   "source": [
    "# Question 4\n",
    "# Write a function that calculates the factorial of a number recursively."
   ]
  },
  {
   "cell_type": "code",
   "execution_count": 8,
   "id": "244c8e09",
   "metadata": {},
   "outputs": [
    {
     "data": {
      "text/plain": [
       "1"
      ]
     },
     "execution_count": 8,
     "metadata": {},
     "output_type": "execute_result"
    }
   ],
   "source": [
    "def factorial(n):\n",
    "    if n == 0:\n",
    "        return 1\n",
    "    else:\n",
    "        return n * factorial(n - 1)\n",
    "factorial(0)"
   ]
  },
  {
   "cell_type": "code",
   "execution_count": 9,
   "id": "f1670803",
   "metadata": {},
   "outputs": [],
   "source": [
    "# Question 5\n",
    "# Write a function that moves all elements of one type to the end of the list."
   ]
  },
  {
   "cell_type": "code",
   "execution_count": 10,
   "id": "6923968d",
   "metadata": {},
   "outputs": [
    {
     "data": {
      "text/plain": [
       "[1, 3, 4, 5, 2, 2, 2]"
      ]
     },
     "execution_count": 10,
     "metadata": {},
     "output_type": "execute_result"
    }
   ],
   "source": [
    "def move_to_end(lst, elem):\n",
    "    # Iterate through the list\n",
    "    for i in range(len(lst)):\n",
    "        # If the current element is the specified element\n",
    "        if lst[i] == elem:\n",
    "            # Remove the element and append it to the end of the list\n",
    "            lst.append(lst.pop(i))\n",
    "    \n",
    "    return lst\n",
    "move_to_end([1, 3, 2, 4, 2, 5, 2], 2)"
   ]
  },
  {
   "cell_type": "code",
   "execution_count": null,
   "id": "f0df0542",
   "metadata": {},
   "outputs": [],
   "source": []
  }
 ],
 "metadata": {
  "kernelspec": {
   "display_name": "Python 3 (ipykernel)",
   "language": "python",
   "name": "python3"
  },
  "language_info": {
   "codemirror_mode": {
    "name": "ipython",
    "version": 3
   },
   "file_extension": ".py",
   "mimetype": "text/x-python",
   "name": "python",
   "nbconvert_exporter": "python",
   "pygments_lexer": "ipython3",
   "version": "3.9.12"
  }
 },
 "nbformat": 4,
 "nbformat_minor": 5
}
