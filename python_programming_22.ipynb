{
 "cells": [
  {
   "cell_type": "code",
   "execution_count": 2,
   "id": "b28b5f17",
   "metadata": {},
   "outputs": [],
   "source": [
    "# Question1\n",
    "# Create a function that takes three parameters where:\n",
    "#  x is the start of the range (inclusive).\n",
    "#  y is the end of the range (inclusive).\n",
    "#  n is the divisor to be checked against.\n",
    "# Return an ordered list with numbers in the range that are divisible by the third parameter n.\n",
    "# Return an empty list if there are no numbers that are divisible by n."
   ]
  },
  {
   "cell_type": "code",
   "execution_count": 3,
   "id": "d67e0a5c",
   "metadata": {},
   "outputs": [
    {
     "name": "stdout",
     "output_type": "stream",
     "text": [
      "[12, 15, 18, 21, 24, 27, 30]\n"
     ]
    }
   ],
   "source": [
    "def divisible_by_n(x, y, n):\n",
    "    return [i for i in range(x, y+1) if i % n == 0]\n",
    "result = divisible_by_n(10, 30, 3)\n",
    "print(result)   # Output: [12, 15, 18, 21, 24, 27, 30]\n"
   ]
  },
  {
   "cell_type": "code",
   "execution_count": 5,
   "id": "c582b25b",
   "metadata": {},
   "outputs": [],
   "source": [
    "# Question2\n",
    "# Create a function that takes in two lists and returns True if the second list follows the first list\n",
    "# by one element, and False otherwise. In other words, determine if the second list is the first\n",
    "# list shifted to the right by 1."
   ]
  },
  {
   "cell_type": "code",
   "execution_count": 6,
   "id": "2f1dceaf",
   "metadata": {},
   "outputs": [
    {
     "name": "stdout",
     "output_type": "stream",
     "text": [
      "True\n",
      "False\n"
     ]
    }
   ],
   "source": [
    "def is_shifted_list(list1, list2):\n",
    "    if len(list1) != len(list2):\n",
    "        return False\n",
    "    if list1[:-1] == list2[1:]:\n",
    "        return True\n",
    "    return False\n",
    "result1 = is_shifted_list([1, 2, 3, 4, 5], [5, 1, 2, 3, 4])\n",
    "print(result1)   # Output: True\n",
    "\n",
    "result2 = is_shifted_list([1, 2, 3, 4, 5], [5, 2, 3, 4, 6])\n",
    "print(result2)   # Output: False\n"
   ]
  },
  {
   "cell_type": "code",
   "execution_count": 7,
   "id": "1f47bf0d",
   "metadata": {},
   "outputs": [],
   "source": [
    "# Question3\n",
    "# A group of friends have decided to start a secret society. The name will be the first letter of\n",
    "# each of their names, sorted in alphabetical order.\n",
    "# Create a function that takes in a list of names and returns the name of the secret society."
   ]
  },
  {
   "cell_type": "code",
   "execution_count": 8,
   "id": "a120616b",
   "metadata": {},
   "outputs": [
    {
     "name": "stdout",
     "output_type": "stream",
     "text": [
      "HHR\n"
     ]
    }
   ],
   "source": [
    "def secret_society(names):\n",
    "    return ''.join(sorted([name[0] for name in names]))\n",
    "result = secret_society(['Harry', 'Ron', 'Hermione'])\n",
    "print(result)   # Output: 'HHR'\n"
   ]
  },
  {
   "cell_type": "code",
   "execution_count": 9,
   "id": "e25bd4a1",
   "metadata": {},
   "outputs": [],
   "source": [
    "# Question4\n",
    "# An isogram is a word that has no duplicate letters. Create a function that takes a string and\n",
    "# returns either True or False depending on whether or not it&#39;s an &quot;isogram&quot;."
   ]
  },
  {
   "cell_type": "code",
   "execution_count": 10,
   "id": "176fe20f",
   "metadata": {},
   "outputs": [
    {
     "name": "stdout",
     "output_type": "stream",
     "text": [
      "True\n",
      "True\n"
     ]
    }
   ],
   "source": [
    "def is_isogram(word):\n",
    "    # Convert the word to lowercase to handle case-insensitivity\n",
    "    word = word.lower()\n",
    "    \n",
    "    # Check if all characters in the word are unique\n",
    "    return len(set(word)) == len(word)\n",
    "result1 = is_isogram('algorithm')\n",
    "print(result1)   # Output: True\n",
    "\n",
    "result2 = is_isogram('python')\n",
    "print(result2)   # Output: True\n"
   ]
  },
  {
   "cell_type": "code",
   "execution_count": 11,
   "id": "be531a48",
   "metadata": {},
   "outputs": [],
   "source": [
    "# Question5\n",
    "# Create a function that takes a string and returns True or False, depending on whether the\n",
    "# characters are in order or not."
   ]
  },
  {
   "cell_type": "code",
   "execution_count": 12,
   "id": "0b202900",
   "metadata": {},
   "outputs": [
    {
     "name": "stdout",
     "output_type": "stream",
     "text": [
      "True\n",
      "False\n"
     ]
    }
   ],
   "source": [
    "def is_in_order(word):\n",
    "    # Check if the sorted version of the word is equal to the original word\n",
    "    return ''.join(sorted(word)) == word\n",
    "result1 = is_in_order('abcdefg')\n",
    "print(result1)   # Output: True\n",
    "\n",
    "result2 = is_in_order('python')\n",
    "print(result2)   # Output: False\n"
   ]
  },
  {
   "cell_type": "code",
   "execution_count": null,
   "id": "f3e93749",
   "metadata": {},
   "outputs": [],
   "source": []
  }
 ],
 "metadata": {
  "kernelspec": {
   "display_name": "Python 3 (ipykernel)",
   "language": "python",
   "name": "python3"
  },
  "language_info": {
   "codemirror_mode": {
    "name": "ipython",
    "version": 3
   },
   "file_extension": ".py",
   "mimetype": "text/x-python",
   "name": "python",
   "nbconvert_exporter": "python",
   "pygments_lexer": "ipython3",
   "version": "3.9.12"
  }
 },
 "nbformat": 4,
 "nbformat_minor": 5
}
