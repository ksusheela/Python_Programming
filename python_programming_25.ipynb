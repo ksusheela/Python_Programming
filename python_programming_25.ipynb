{
 "cells": [
  {
   "cell_type": "code",
   "execution_count": 1,
   "id": "d3432bcf",
   "metadata": {},
   "outputs": [],
   "source": [
    "# Question1\n",
    "# Create a function that takes three integer arguments (a, b, c) and returns the amount of\n",
    "# integers which are of equal value."
   ]
  },
  {
   "cell_type": "code",
   "execution_count": 2,
   "id": "5922c1a7",
   "metadata": {},
   "outputs": [
    {
     "name": "stdout",
     "output_type": "stream",
     "text": [
      "0\n",
      "3\n",
      "1\n",
      "1\n"
     ]
    }
   ],
   "source": [
    "def equal(a, b, c):\n",
    "    \"\"\"\n",
    "    Returns the count of integers which are equal among the three given integers.\n",
    "    \"\"\"\n",
    "    count = 0\n",
    "    if a == b:\n",
    "        count += 1\n",
    "    if b == c:\n",
    "        count += 1\n",
    "    if c == a:\n",
    "        count += 1\n",
    "    return count\n",
    "print(equal(1, 2, 3))  # 0\n",
    "print(equal(3, 3, 3))  # 3\n",
    "print(equal(4, 4, 3))  # 2\n",
    "print(equal(2, 2, 6))  # 2\n"
   ]
  },
  {
   "cell_type": "code",
   "execution_count": 3,
   "id": "cdcc43e1",
   "metadata": {},
   "outputs": [],
   "source": [
    "# Question2\n",
    "# Write a function that converts a dictionary into a list of keys-values tuples."
   ]
  },
  {
   "cell_type": "code",
   "execution_count": 4,
   "id": "aabfc000",
   "metadata": {},
   "outputs": [
    {
     "name": "stdout",
     "output_type": "stream",
     "text": [
      "[('a', 1), ('b', 2), ('c', 3)]\n"
     ]
    }
   ],
   "source": [
    "def dict_to_tuple_list(d):\n",
    "    return [(k, v) for k, v in d.items()]\n",
    "d = {\"a\": 1, \"b\": 2, \"c\": 3}\n",
    "tuples_list = dict_to_tuple_list(d)\n",
    "print(tuples_list)\n"
   ]
  },
  {
   "cell_type": "code",
   "execution_count": 5,
   "id": "ced49dac",
   "metadata": {},
   "outputs": [],
   "source": [
    "# Question3\n",
    "# Write a function that creates a dictionary with each (key, value) pair being the (lower case,\n",
    "# upper case) versions of a letter, respectively."
   ]
  },
  {
   "cell_type": "code",
   "execution_count": 7,
   "id": "74b21e53",
   "metadata": {},
   "outputs": [
    {
     "data": {
      "text/plain": [
       "{'a': 'A',\n",
       " 'b': 'B',\n",
       " 'c': 'C',\n",
       " 'd': 'D',\n",
       " 'e': 'E',\n",
       " 'f': 'F',\n",
       " 'g': 'G',\n",
       " 'h': 'H',\n",
       " 'i': 'I',\n",
       " 'j': 'J',\n",
       " 'k': 'K',\n",
       " 'l': 'L',\n",
       " 'm': 'M',\n",
       " 'n': 'N',\n",
       " 'o': 'O',\n",
       " 'p': 'P',\n",
       " 'q': 'Q',\n",
       " 'r': 'R',\n",
       " 's': 'S',\n",
       " 't': 'T',\n",
       " 'u': 'U',\n",
       " 'v': 'V',\n",
       " 'w': 'W',\n",
       " 'x': 'X',\n",
       " 'y': 'Y',\n",
       " 'z': 'Z'}"
      ]
     },
     "execution_count": 7,
     "metadata": {},
     "output_type": "execute_result"
    }
   ],
   "source": [
    "def create_letter_dict():\n",
    "    letter_dict = {}\n",
    "    for letter in range(ord('a'), ord('z')+1):\n",
    "        lower = chr(letter)\n",
    "        upper = chr(letter-32)\n",
    "        letter_dict[lower] = upper\n",
    "    return letter_dict\n",
    "create_letter_dict()"
   ]
  },
  {
   "cell_type": "code",
   "execution_count": 8,
   "id": "00ed80fb",
   "metadata": {},
   "outputs": [],
   "source": [
    "# Question4\n",
    "# Write a function, that replaces all vowels in a string with a specified vowel."
   ]
  },
  {
   "cell_type": "code",
   "execution_count": 14,
   "id": "139a468e",
   "metadata": {},
   "outputs": [
    {
     "ename": "NameError",
     "evalue": "name 'u' is not defined",
     "output_type": "error",
     "traceback": [
      "\u001b[1;31m---------------------------------------------------------------------------\u001b[0m",
      "\u001b[1;31mNameError\u001b[0m                                 Traceback (most recent call last)",
      "Input \u001b[1;32mIn [14]\u001b[0m, in \u001b[0;36m<cell line: 10>\u001b[1;34m()\u001b[0m\n\u001b[0;32m      8\u001b[0m             new_string \u001b[38;5;241m+\u001b[39m\u001b[38;5;241m=\u001b[39m char\n\u001b[0;32m      9\u001b[0m     \u001b[38;5;28;01mreturn\u001b[39;00m new_string\n\u001b[1;32m---> 10\u001b[0m replace_vowels(\u001b[38;5;124m\"\u001b[39m\u001b[38;5;124mpraise\u001b[39m\u001b[38;5;124m\"\u001b[39m, \u001b[43mu\u001b[49m)\n",
      "\u001b[1;31mNameError\u001b[0m: name 'u' is not defined"
     ]
    }
   ],
   "source": [
    "def replace_vowels(string, vowel):\n",
    "    vowels = 'aeiouAEIOU'\n",
    "    new_string = ''\n",
    "    for char in string:\n",
    "        if char in vowels:\n",
    "            new_string += vowel\n",
    "        else:\n",
    "            new_string += char\n",
    "    return new_string\n",
    "replace_vowels(\"praise\", u)"
   ]
  },
  {
   "cell_type": "code",
   "execution_count": 15,
   "id": "665c36ff",
   "metadata": {},
   "outputs": [],
   "source": [
    "# Question5\n",
    "# Create a function that takes a string as input and capitalizes a letter if its ASCII code is even\n",
    "# and returns its lower case version if its ASCII code is odd."
   ]
  },
  {
   "cell_type": "code",
   "execution_count": 16,
   "id": "1e65fc9d",
   "metadata": {},
   "outputs": [],
   "source": [
    "def ascii_capitalize(string):\n",
    "    result = ''\n",
    "    for char in string:\n",
    "        ascii_val = ord(char)\n",
    "        if ascii_val % 2 == 0:\n",
    "            result += char.upper()\n",
    "        else:\n",
    "            result += char.lower()\n",
    "    return result\n"
   ]
  },
  {
   "cell_type": "code",
   "execution_count": 17,
   "id": "8e084e9c",
   "metadata": {},
   "outputs": [
    {
     "data": {
      "text/plain": [
       "'HeLLo, woRLD!'"
      ]
     },
     "execution_count": 17,
     "metadata": {},
     "output_type": "execute_result"
    }
   ],
   "source": [
    "ascii_capitalize('Hello, world!')\n"
   ]
  },
  {
   "cell_type": "code",
   "execution_count": null,
   "id": "cb1b871f",
   "metadata": {},
   "outputs": [],
   "source": []
  }
 ],
 "metadata": {
  "kernelspec": {
   "display_name": "Python 3 (ipykernel)",
   "language": "python",
   "name": "python3"
  },
  "language_info": {
   "codemirror_mode": {
    "name": "ipython",
    "version": 3
   },
   "file_extension": ".py",
   "mimetype": "text/x-python",
   "name": "python",
   "nbconvert_exporter": "python",
   "pygments_lexer": "ipython3",
   "version": "3.9.12"
  }
 },
 "nbformat": 4,
 "nbformat_minor": 5
}
