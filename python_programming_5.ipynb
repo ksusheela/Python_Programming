{
 "cells": [
  {
   "cell_type": "markdown",
   "id": "ffd158ee",
   "metadata": {},
   "source": [
    "## 1. Write a Python Program to Find LCM?"
   ]
  },
  {
   "cell_type": "code",
   "execution_count": 1,
   "id": "27eefe99",
   "metadata": {},
   "outputs": [
    {
     "name": "stdout",
     "output_type": "stream",
     "text": [
      "Enter the first number: 5\n",
      "Enter the second number: 8\n",
      "The LCM of 5 and 8 is 40.\n"
     ]
    }
   ],
   "source": [
    "# Function to find GCD of two numbers\n",
    "def gcd(a, b):\n",
    "    if b == 0:\n",
    "        return a\n",
    "    else:\n",
    "        return gcd(b, a % b)\n",
    "\n",
    "# Function to find LCM of two numbers\n",
    "def lcm(a, b):\n",
    "    return (a*b)//gcd(a, b)\n",
    "\n",
    "# Taking input from the user\n",
    "num1 = int(input(\"Enter the first number: \"))\n",
    "num2 = int(input(\"Enter the second number: \"))\n",
    "\n",
    "# Finding the LCM\n",
    "lcm_val = lcm(num1, num2)\n",
    "\n",
    "# Printing the LCM\n",
    "print(f\"The LCM of {num1} and {num2} is {lcm_val}.\")\n"
   ]
  },
  {
   "cell_type": "markdown",
   "id": "787b84aa",
   "metadata": {},
   "source": [
    "## 2. Write a Python Program to Find HCF?"
   ]
  },
  {
   "cell_type": "code",
   "execution_count": 2,
   "id": "e669c78d",
   "metadata": {},
   "outputs": [
    {
     "name": "stdout",
     "output_type": "stream",
     "text": [
      "Enter the first number: 6\n",
      "Enter the second number: 7\n",
      "The HCF of 6 and 7 is 1.\n"
     ]
    }
   ],
   "source": [
    "# Function to find HCF of two numbers\n",
    "def hcf(a, b):\n",
    "    if b == 0:\n",
    "        return a\n",
    "    else:\n",
    "        return hcf(b, a % b)\n",
    "\n",
    "# Taking input from the user\n",
    "num1 = int(input(\"Enter the first number: \"))\n",
    "num2 = int(input(\"Enter the second number: \"))\n",
    "\n",
    "# Finding the HCF\n",
    "hcf_val = hcf(num1, num2)\n",
    "\n",
    "# Printing the HCF\n",
    "print(f\"The HCF of {num1} and {num2} is {hcf_val}.\")\n"
   ]
  },
  {
   "cell_type": "markdown",
   "id": "cbd7fe77",
   "metadata": {},
   "source": [
    "## 3. Write a Python Program to Convert Decimal to Binary, Octal and Hexadecimal?"
   ]
  },
  {
   "cell_type": "code",
   "execution_count": 3,
   "id": "6ad7a326",
   "metadata": {},
   "outputs": [
    {
     "name": "stdout",
     "output_type": "stream",
     "text": [
      "Enter a decimal number: 8\n",
      "Binary equivalent of 8 is 0b1000.\n",
      "Octal equivalent of 8 is 0o10.\n",
      "Hexadecimal equivalent of 8 is 0x8.\n"
     ]
    }
   ],
   "source": [
    "# Taking input from the user\n",
    "dec_num = int(input(\"Enter a decimal number: \"))\n",
    "\n",
    "# Converting to binary, octal, and hexadecimal\n",
    "bin_num = bin(dec_num)\n",
    "oct_num = oct(dec_num)\n",
    "hex_num = hex(dec_num)\n",
    "\n",
    "# Printing the results\n",
    "print(f\"Binary equivalent of {dec_num} is {bin_num}.\")\n",
    "print(f\"Octal equivalent of {dec_num} is {oct_num}.\")\n",
    "print(f\"Hexadecimal equivalent of {dec_num} is {hex_num}.\")\n"
   ]
  },
  {
   "cell_type": "markdown",
   "id": "f584af3c",
   "metadata": {},
   "source": [
    "## 4. Write a Python Program To Find ASCII value of a character?"
   ]
  },
  {
   "cell_type": "code",
   "execution_count": 5,
   "id": "9154130b",
   "metadata": {},
   "outputs": [
    {
     "name": "stdout",
     "output_type": "stream",
     "text": [
      "Enter a character: a\n",
      "The ASCII value of 'a' is 97.\n"
     ]
    }
   ],
   "source": [
    "# Taking input from the user\n",
    "char = input(\"Enter a character: \")\n",
    "\n",
    "# Finding the ASCII value\n",
    "ascii_val = ord(char)\n",
    "\n",
    "# Printing the ASCII value\n",
    "print(f\"The ASCII value of '{char}' is {ascii_val}.\")\n"
   ]
  },
  {
   "cell_type": "markdown",
   "id": "5e414f76",
   "metadata": {},
   "source": [
    "## 5. Write a Python Program to Make a Simple Calculator with 4 basic mathematical operations?"
   ]
  },
  {
   "cell_type": "code",
   "execution_count": 6,
   "id": "40e4783d",
   "metadata": {},
   "outputs": [
    {
     "name": "stdout",
     "output_type": "stream",
     "text": [
      "Enter the first number: 5\n",
      "Enter the second number: 6\n",
      "Sum of 5.0 and 6.0 is 11.0\n",
      "Difference of 5.0 and 6.0 is -1.0\n",
      "Product of 5.0 and 6.0 is 30.0\n",
      "Quotient of 5.0 and 6.0 is 0.8333333333333334\n"
     ]
    }
   ],
   "source": [
    "# Taking input from the user\n",
    "num1 = float(input(\"Enter the first number: \"))\n",
    "num2 = float(input(\"Enter the second number: \"))\n",
    "\n",
    "# Performing arithmetic operations\n",
    "sum = num1 + num2\n",
    "diff = num1 - num2\n",
    "prod = num1 * num2\n",
    "quo = num1 / num2\n",
    "\n",
    "# Printing the results\n",
    "print(f\"Sum of {num1} and {num2} is {sum}\")\n",
    "print(f\"Difference of {num1} and {num2} is {diff}\")\n",
    "print(f\"Product of {num1} and {num2} is {prod}\")\n",
    "print(f\"Quotient of {num1} and {num2} is {quo}\")\n"
   ]
  },
  {
   "cell_type": "code",
   "execution_count": null,
   "id": "833544ca",
   "metadata": {},
   "outputs": [],
   "source": []
  }
 ],
 "metadata": {
  "kernelspec": {
   "display_name": "Python 3 (ipykernel)",
   "language": "python",
   "name": "python3"
  },
  "language_info": {
   "codemirror_mode": {
    "name": "ipython",
    "version": 3
   },
   "file_extension": ".py",
   "mimetype": "text/x-python",
   "name": "python",
   "nbconvert_exporter": "python",
   "pygments_lexer": "ipython3",
   "version": "3.9.12"
  }
 },
 "nbformat": 4,
 "nbformat_minor": 5
}
