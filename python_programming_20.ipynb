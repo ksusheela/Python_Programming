{
 "cells": [
  {
   "cell_type": "code",
   "execution_count": 1,
   "id": "0c2ac23e",
   "metadata": {},
   "outputs": [],
   "source": [
    "# Question1\n",
    "# Create a function that takes a list of strings and integers, and filters out the list so that it\n",
    "# returns a list of integers only."
   ]
  },
  {
   "cell_type": "code",
   "execution_count": 3,
   "id": "76c05f1e",
   "metadata": {},
   "outputs": [
    {
     "name": "stdout",
     "output_type": "stream",
     "text": [
      "[3, 5, 7]\n"
     ]
    }
   ],
   "source": [
    "def filter_integers(lst):\n",
    "    return [i for i in lst if isinstance(i, int)]\n",
    "mixed_list = ['apple', 3, 'banana', 5, 7, 'orange']\n",
    "integer_list = filter_integers(mixed_list)\n",
    "print(integer_list)  # Output: [3, 5, 7]\n"
   ]
  },
  {
   "cell_type": "code",
   "execution_count": 2,
   "id": "8a97aebd",
   "metadata": {},
   "outputs": [],
   "source": [
    "# Question2\n",
    "# Given a list of numbers, create a function which returns the list but with each element&#39;s\n",
    "# index in the list added to itself. This means you add 0 to the number at index 0, add 1 to the\n",
    "# number at index 1, etc..."
   ]
  },
  {
   "cell_type": "code",
   "execution_count": 4,
   "id": "90c8b810",
   "metadata": {},
   "outputs": [
    {
     "data": {
      "text/plain": [
       "[0, 3, 6, 9]"
      ]
     },
     "execution_count": 4,
     "metadata": {},
     "output_type": "execute_result"
    }
   ],
   "source": [
    "def add_indexes(lst):\n",
    "    result = []\n",
    "    for i, num in enumerate(lst):\n",
    "        result.append(i + num)\n",
    "    return result\n",
    "add_indexes([0, 2, 4, 6])"
   ]
  },
  {
   "cell_type": "code",
   "execution_count": null,
   "id": "46a4714c",
   "metadata": {},
   "outputs": [],
   "source": [
    "# Question3\n",
    "# Create a function that takes the height and radius of a cone as arguments and returns the\n",
    "# volume of the cone rounded to the nearest hundredth. See the resources tab for the formula."
   ]
  },
  {
   "cell_type": "code",
   "execution_count": 5,
   "id": "8c755ba7",
   "metadata": {},
   "outputs": [
    {
     "data": {
      "text/plain": [
       "261.8"
      ]
     },
     "execution_count": 5,
     "metadata": {},
     "output_type": "execute_result"
    }
   ],
   "source": [
    "import math\n",
    "\n",
    "def cone_volume(height, radius):\n",
    "    volume = (1/3) * math.pi * (radius ** 2) * height\n",
    "    return round(volume, 2)\n",
    "cone_volume(10, 5)"
   ]
  },
  {
   "cell_type": "code",
   "execution_count": 6,
   "id": "765a6c2c",
   "metadata": {},
   "outputs": [],
   "source": [
    "# Question4\n",
    "# This Triangular Number Sequence is generated from a pattern of dots that form a triangle.\n",
    "# The first 5 numbers of the sequence, or dots, are:\n",
    "# 1, 3, 6, 10, 15\n",
    "# This means that the first triangle has just one dot, the second one has three dots, the third one\n",
    "# has 6 dots and so on.\n",
    "# Write a function that gives the number of dots with its corresponding triangle number of the\n",
    "# sequence."
   ]
  },
  {
   "cell_type": "code",
   "execution_count": 7,
   "id": "de63c268",
   "metadata": {},
   "outputs": [
    {
     "data": {
      "text/plain": [
       "10"
      ]
     },
     "execution_count": 7,
     "metadata": {},
     "output_type": "execute_result"
    }
   ],
   "source": [
    "def triangular_sequence(n):\n",
    "    dots = n * (n + 1) // 2\n",
    "    return dots\n",
    "triangular_sequence(4)\n",
    "\n"
   ]
  },
  {
   "cell_type": "code",
   "execution_count": 8,
   "id": "b7ae10f1",
   "metadata": {},
   "outputs": [],
   "source": [
    "# Question5\n",
    "# Create a function that takes a list of numbers between 1 and 10 (excluding one number) and\n",
    "# returns the missing number."
   ]
  },
  {
   "cell_type": "code",
   "execution_count": 9,
   "id": "d105e2b3",
   "metadata": {},
   "outputs": [
    {
     "name": "stdout",
     "output_type": "stream",
     "text": [
      "9\n"
     ]
    }
   ],
   "source": [
    "def find_missing_number(lst):\n",
    "    n = 10\n",
    "    expected_sum = (n * (n+1)) // 2\n",
    "    actual_sum = sum(lst)\n",
    "    return expected_sum - actual_sum\n",
    "lst = [1, 2, 3, 4, 5, 6, 7, 8, 10]\n",
    "print(find_missing_number(lst))  # Output: 9\n"
   ]
  },
  {
   "cell_type": "code",
   "execution_count": null,
   "id": "a441b4be",
   "metadata": {},
   "outputs": [],
   "source": []
  }
 ],
 "metadata": {
  "kernelspec": {
   "display_name": "Python 3 (ipykernel)",
   "language": "python",
   "name": "python3"
  },
  "language_info": {
   "codemirror_mode": {
    "name": "ipython",
    "version": 3
   },
   "file_extension": ".py",
   "mimetype": "text/x-python",
   "name": "python",
   "nbconvert_exporter": "python",
   "pygments_lexer": "ipython3",
   "version": "3.9.12"
  }
 },
 "nbformat": 4,
 "nbformat_minor": 5
}
