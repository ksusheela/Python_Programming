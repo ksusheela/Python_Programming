{
 "cells": [
  {
   "cell_type": "code",
   "execution_count": null,
   "id": "8eb998cd",
   "metadata": {},
   "outputs": [],
   "source": [
    "# Question1. Create a function that takes three arguments a, b, c and returns the sum of the\n",
    "# numbers that are evenly divided by c from the range a, b inclusive."
   ]
  },
  {
   "cell_type": "code",
   "execution_count": 1,
   "id": "cc9831ed",
   "metadata": {},
   "outputs": [
    {
     "data": {
      "text/plain": [
       "30"
      ]
     },
     "execution_count": 1,
     "metadata": {},
     "output_type": "execute_result"
    }
   ],
   "source": [
    "def sum_divisible_by_c(a, b, c):\n",
    "    sum = 0\n",
    "    for num in range(a, b+1):\n",
    "        if num % c == 0:\n",
    "            sum += num\n",
    "    return sum\n",
    "sum_divisible_by_c(1, 10, 2)\n",
    "\n"
   ]
  },
  {
   "cell_type": "code",
   "execution_count": null,
   "id": "09fecb91",
   "metadata": {},
   "outputs": [],
   "source": [
    "# Question2. Create a function that returns True if a given inequality expression is correct and\n",
    "# False otherwise."
   ]
  },
  {
   "cell_type": "code",
   "execution_count": 4,
   "id": "fdd15d78",
   "metadata": {},
   "outputs": [
    {
     "data": {
      "text/plain": [
       "False"
      ]
     },
     "execution_count": 4,
     "metadata": {},
     "output_type": "execute_result"
    }
   ],
   "source": [
    "def is_inequality_correct(expression):\n",
    "    parts = expression.split()\n",
    "    a = float(parts[0])\n",
    "    operator = parts[1]\n",
    "    b = float(parts[2])\n",
    "    if operator == \"<\":\n",
    "        return a < b\n",
    "    elif operator == \"<=\":\n",
    "        return a <= b\n",
    "    elif operator == \">\":\n",
    "        return a > b\n",
    "    elif operator == \">=\":\n",
    "        return a >= b\n",
    "    else:\n",
    "        return False\n",
    "\n",
    "is_inequality_correct(\"5 < 10\")\n",
    "is_inequality_correct(\"10 == 10\")"
   ]
  },
  {
   "cell_type": "code",
   "execution_count": null,
   "id": "c6091ea3",
   "metadata": {},
   "outputs": [],
   "source": [
    "# Question3. Create a function that replaces all the vowels in a string with a specified character."
   ]
  },
  {
   "cell_type": "code",
   "execution_count": 6,
   "id": "96f6522b",
   "metadata": {},
   "outputs": [
    {
     "data": {
      "text/plain": [
       "'Pyth#n #s #w#s#m#'"
      ]
     },
     "execution_count": 6,
     "metadata": {},
     "output_type": "execute_result"
    }
   ],
   "source": [
    "def replace_vowels(text, char):\n",
    "    vowels = 'aeiouAEIOU'\n",
    "    new_text = ''\n",
    "    for letter in text:\n",
    "        if letter in vowels:\n",
    "            new_text += char\n",
    "        else:\n",
    "            new_text += letter\n",
    "    return new_text\n",
    "replace_vowels('hello world', '*')\n",
    "\n",
    "replace_vowels('Python is awesome', '#')\n",
    "\n"
   ]
  },
  {
   "cell_type": "code",
   "execution_count": 7,
   "id": "ecdef432",
   "metadata": {},
   "outputs": [],
   "source": [
    "# Question4. Write a function that calculates the factorial of a number recursively."
   ]
  },
  {
   "cell_type": "code",
   "execution_count": 9,
   "id": "d543bdc7",
   "metadata": {},
   "outputs": [
    {
     "data": {
      "text/plain": [
       "30414093201713378043612608166064768844377641568960512000000000000"
      ]
     },
     "execution_count": 9,
     "metadata": {},
     "output_type": "execute_result"
    }
   ],
   "source": [
    "def factorial(n):\n",
    "    if n == 0:\n",
    "        return 1\n",
    "    else:\n",
    "        return n * factorial(n - 1)\n",
    "factorial(50)\n"
   ]
  },
  {
   "cell_type": "code",
   "execution_count": 10,
   "id": "81941dad",
   "metadata": {},
   "outputs": [],
   "source": [
    "# Question 5\n",
    "# Hamming distance is the number of characters that differ between two strings.\n",
    "# To illustrate:\n",
    "# String1: \"abcbba\"\n",
    "# String2: \"abcbda\"\n",
    "# Hamming Distance: 1 - \"b\" vs. \"d\" is the only difference.\n",
    "# Create a function that computes the hamming distance between two strings."
   ]
  },
  {
   "cell_type": "code",
   "execution_count": 11,
   "id": "eaba75ec",
   "metadata": {},
   "outputs": [
    {
     "data": {
      "text/plain": [
       "1"
      ]
     },
     "execution_count": 11,
     "metadata": {},
     "output_type": "execute_result"
    }
   ],
   "source": [
    "def hamming_distance(str1, str2):\n",
    "    if len(str1) != len(str2):\n",
    "        raise ValueError(\"Strings must be of equal length\")\n",
    "    return sum(1 for c1, c2 in zip(str1, str2) if c1 != c2)\n",
    "hamming_distance(\"abcbba\", \"abcbda\")"
   ]
  },
  {
   "cell_type": "code",
   "execution_count": null,
   "id": "a3daa8e2",
   "metadata": {},
   "outputs": [],
   "source": []
  }
 ],
 "metadata": {
  "kernelspec": {
   "display_name": "Python 3 (ipykernel)",
   "language": "python",
   "name": "python3"
  },
  "language_info": {
   "codemirror_mode": {
    "name": "ipython",
    "version": 3
   },
   "file_extension": ".py",
   "mimetype": "text/x-python",
   "name": "python",
   "nbconvert_exporter": "python",
   "pygments_lexer": "ipython3",
   "version": "3.9.12"
  }
 },
 "nbformat": 4,
 "nbformat_minor": 5
}
