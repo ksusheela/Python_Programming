{
 "cells": [
  {
   "cell_type": "code",
   "execution_count": 1,
   "id": "c626fa1c",
   "metadata": {},
   "outputs": [],
   "source": [
    "# Question1\n",
    "# Write a function that takes a list and a number as arguments. Add the number to the end of\n",
    "# the list, then remove the first element of the list. The function should then return the updated\n",
    "# list."
   ]
  },
  {
   "cell_type": "code",
   "execution_count": 2,
   "id": "ffec1f84",
   "metadata": {},
   "outputs": [
    {
     "name": "stdout",
     "output_type": "stream",
     "text": [
      "[2, 3, 4, 5, 6]\n"
     ]
    }
   ],
   "source": [
    "def update_list(lst, num):\n",
    "    lst.append(num)    # add the number to the end of the list\n",
    "    lst.pop(0)         # remove the first element of the list\n",
    "    return lst         # return the updated list\n",
    "my_list = [1, 2, 3, 4, 5]\n",
    "updated_list = update_list(my_list, 6)\n",
    "print(updated_list)   # Output: [2, 3, 4, 5, 6]\n"
   ]
  },
  {
   "cell_type": "code",
   "execution_count": 11,
   "id": "d2bfca70",
   "metadata": {},
   "outputs": [],
   "source": [
    "# Question2\n",
    "# Create the function that takes a list of dictionaries and returns the sum of people's budgets."
   ]
  },
  {
   "cell_type": "code",
   "execution_count": 12,
   "id": "2324780b",
   "metadata": {},
   "outputs": [
    {
     "name": "stdout",
     "output_type": "stream",
     "text": [
      "5500\n"
     ]
    }
   ],
   "source": [
    "def sum_budgets(lst):\n",
    "    total_budget = 0\n",
    "    for person in lst:\n",
    "        total_budget += person['budget']\n",
    "    return total_budget\n",
    "people = [\n",
    "    {'name': 'porinma', 'budget': 3000},\n",
    "    {'name': 'halya', 'budget': 1000},\n",
    "    {'name': 'pradeep', 'budget': 1500}\n",
    "]\n",
    "\n",
    "total_budget = sum_budgets(people)\n",
    "print(total_budget)   # Output: 3000\n"
   ]
  },
  {
   "cell_type": "code",
   "execution_count": 5,
   "id": "70676842",
   "metadata": {},
   "outputs": [],
   "source": [
    "# Question3\n",
    "# Create a function that takes a string and returns a string with its letters in alphabetical order."
   ]
  },
  {
   "cell_type": "code",
   "execution_count": 6,
   "id": "c41f02fe",
   "metadata": {},
   "outputs": [
    {
     "name": "stdout",
     "output_type": "stream",
     "text": [
      "hnopty\n"
     ]
    }
   ],
   "source": [
    "def sort_letters(s):\n",
    "    return ''.join(sorted(s))\n",
    "my_string = \"python\"\n",
    "sorted_string = sort_letters(my_string)\n",
    "print(sorted_string)   # Output: 'hnopty'\n"
   ]
  },
  {
   "cell_type": "code",
   "execution_count": 7,
   "id": "2b1750c0",
   "metadata": {},
   "outputs": [],
   "source": [
    "# Question4\n",
    "# Suppose that you invest $10,000 for 10 years at an interest rate of 6% compounded monthly.\n",
    "# What will be the value of your investment at the end of the 10 year period?\n",
    "# Create a function that accepts the principal p, the term in years t, the interest rate r, and the\n",
    "# number of compounding periods per year n. The function returns the value at the end of term\n",
    "# rounded to the nearest cent.\n",
    "# For the example above:\n",
    "# compound_interest(10000, 10, 0.06, 12) ➞ 18193.97\n",
    "# Note that the interest rate is given as a decimal and n=12 because with monthly compounding\n",
    "# there are 12 periods per year. Compounding can also be done annually, quarterly, weekly, or\n",
    "# daily."
   ]
  },
  {
   "cell_type": "code",
   "execution_count": 8,
   "id": "9a0e2b2d",
   "metadata": {},
   "outputs": [
    {
     "name": "stdout",
     "output_type": "stream",
     "text": [
      "18193.97\n"
     ]
    }
   ],
   "source": [
    "def compound_interest(p, t, r, n):\n",
    "    # Calculate the compound interest using the formula:\n",
    "    # A = P * (1 + r/n)^(n*t)\n",
    "    A = p * (1 + r/n) ** (n*t)\n",
    "    \n",
    "    # Round the result to the nearest cent and return it\n",
    "    return round(A, 2)\n",
    "result = compound_interest(10000, 10, 0.06, 12)\n",
    "print(result)  # Output: 18193.97\n"
   ]
  },
  {
   "cell_type": "code",
   "execution_count": 9,
   "id": "5259ade5",
   "metadata": {},
   "outputs": [],
   "source": [
    "# Question5\n",
    "# Write a function that takes a list of elements and returns only the integers."
   ]
  },
  {
   "cell_type": "code",
   "execution_count": 13,
   "id": "1c2a98e7",
   "metadata": {},
   "outputs": [
    {
     "name": "stdout",
     "output_type": "stream",
     "text": [
      "[1, 3, 5]\n"
     ]
    }
   ],
   "source": [
    "def filter_integers(lst):\n",
    "    return [x for x in lst if isinstance(x, int)]\n",
    "my_list = [1, 'a', 2.0, 'b', 3, 4.5, 5]\n",
    "int_list = filter_integers(my_list)\n",
    "print(int_list)   # Output: [1, 3, 5]\n"
   ]
  },
  {
   "cell_type": "code",
   "execution_count": null,
   "id": "5e8dfdf0",
   "metadata": {},
   "outputs": [],
   "source": []
  }
 ],
 "metadata": {
  "kernelspec": {
   "display_name": "Python 3 (ipykernel)",
   "language": "python",
   "name": "python3"
  },
  "language_info": {
   "codemirror_mode": {
    "name": "ipython",
    "version": 3
   },
   "file_extension": ".py",
   "mimetype": "text/x-python",
   "name": "python",
   "nbconvert_exporter": "python",
   "pygments_lexer": "ipython3",
   "version": "3.9.12"
  }
 },
 "nbformat": 4,
 "nbformat_minor": 5
}
