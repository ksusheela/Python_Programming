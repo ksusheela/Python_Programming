{
 "cells": [
  {
   "cell_type": "code",
   "execution_count": 1,
   "id": "9546013f",
   "metadata": {},
   "outputs": [],
   "source": [
    "# Question 1\n",
    "# Create a function that takes a number as an argument and returns True or False depending\n",
    "# on whether the number is symmetrical or not. A number is symmetrical when it is the same as\n",
    "# its reverse."
   ]
  },
  {
   "cell_type": "code",
   "execution_count": 2,
   "id": "52b75509",
   "metadata": {},
   "outputs": [
    {
     "name": "stdout",
     "output_type": "stream",
     "text": [
      "True\n",
      "False\n"
     ]
    }
   ],
   "source": [
    "def is_symmetrical(num):\n",
    "    # Convert the number to a string and check if it's equal to its reverse\n",
    "    return str(num) == str(num)[::-1]\n",
    "result1 = is_symmetrical(12321)\n",
    "print(result1)   # Output: True\n",
    "\n",
    "result2 = is_symmetrical(12345)\n",
    "print(result2)   # Output: False\n"
   ]
  },
  {
   "cell_type": "code",
   "execution_count": 3,
   "id": "4093c659",
   "metadata": {},
   "outputs": [],
   "source": [
    "# Question 2\n",
    "# Given a string of numbers separated by a comma and space, return the product of the\n",
    "# numbers."
   ]
  },
  {
   "cell_type": "code",
   "execution_count": 4,
   "id": "3999f9cb",
   "metadata": {},
   "outputs": [
    {
     "name": "stdout",
     "output_type": "stream",
     "text": [
      "210\n"
     ]
    }
   ],
   "source": [
    "def multiply_numbers(nums_str):\n",
    "    # Split the string by comma and space, convert each number to an int, and multiply them together\n",
    "    nums = [int(num) for num in nums_str.split(', ')]\n",
    "    product = 1\n",
    "    for num in nums:\n",
    "        product *= num\n",
    "    return product\n",
    "result = multiply_numbers('2, 3, 5, 7')\n",
    "print(result)   # Output: 210\n"
   ]
  },
  {
   "cell_type": "code",
   "execution_count": 5,
   "id": "4be9423e",
   "metadata": {},
   "outputs": [],
   "source": [
    "# Question 3\n",
    "# Create a function that squares every digit of a number."
   ]
  },
  {
   "cell_type": "code",
   "execution_count": 6,
   "id": "ce8b84fe",
   "metadata": {},
   "outputs": [
    {
     "name": "stdout",
     "output_type": "stream",
     "text": [
      "14916\n"
     ]
    }
   ],
   "source": [
    "def square_digits(num):\n",
    "    # Convert the number to a string and split it into digits\n",
    "    digits = [int(digit) for digit in str(num)]\n",
    "    # Square each digit and combine them back into a number\n",
    "    squared_digits = [digit**2 for digit in digits]\n",
    "    squared_num = int(''.join([str(digit) for digit in squared_digits]))\n",
    "    return squared_num\n",
    "result = square_digits(1234)\n",
    "print(result)   # Output: 14916\n"
   ]
  },
  {
   "cell_type": "code",
   "execution_count": 7,
   "id": "0b2944ce",
   "metadata": {},
   "outputs": [],
   "source": [
    "# Question 4\n",
    "# Create a function that sorts a list and removes all duplicate items from it."
   ]
  },
  {
   "cell_type": "code",
   "execution_count": 8,
   "id": "c0846bf0",
   "metadata": {},
   "outputs": [
    {
     "name": "stdout",
     "output_type": "stream",
     "text": [
      "[1, 2, 3, 4, 5]\n"
     ]
    }
   ],
   "source": [
    "def sort_and_remove_duplicates(lst):\n",
    "    # Sort the list\n",
    "    sorted_lst = sorted(lst)\n",
    "    # Create a new list to store the unique items\n",
    "    unique_lst = []\n",
    "    # Iterate over each item in the sorted list\n",
    "    for item in sorted_lst:\n",
    "        # If the item is not already in the unique list, add it\n",
    "        if item not in unique_lst:\n",
    "            unique_lst.append(item)\n",
    "    return unique_lst\n",
    "my_list = [5, 2, 3, 1, 5, 4, 2]\n",
    "result = sort_and_remove_duplicates(my_list)\n",
    "print(result)   # Output: [1, 2, 3, 4, 5]\n"
   ]
  },
  {
   "cell_type": "code",
   "execution_count": 9,
   "id": "27b370a3",
   "metadata": {},
   "outputs": [],
   "source": [
    "# Question 5\n",
    "# Create a function that returns the mean of all digits."
   ]
  },
  {
   "cell_type": "code",
   "execution_count": 10,
   "id": "37c6c0a6",
   "metadata": {},
   "outputs": [
    {
     "data": {
      "text/plain": [
       "7.0"
      ]
     },
     "execution_count": 10,
     "metadata": {},
     "output_type": "execute_result"
    }
   ],
   "source": [
    "def mean_of_digits(num):\n",
    "    # Convert number to string and extract digits\n",
    "    digits = [int(digit) for digit in str(num) if digit.isdigit()]\n",
    "    \n",
    "    # Calculate mean of digits\n",
    "    if digits:\n",
    "        mean = sum(digits) / len(digits)\n",
    "        return mean\n",
    "    else:\n",
    "        return None\n",
    "mean_of_digits(7)"
   ]
  },
  {
   "cell_type": "code",
   "execution_count": null,
   "id": "d92a1ab9",
   "metadata": {},
   "outputs": [],
   "source": []
  }
 ],
 "metadata": {
  "kernelspec": {
   "display_name": "Python 3 (ipykernel)",
   "language": "python",
   "name": "python3"
  },
  "language_info": {
   "codemirror_mode": {
    "name": "ipython",
    "version": 3
   },
   "file_extension": ".py",
   "mimetype": "text/x-python",
   "name": "python",
   "nbconvert_exporter": "python",
   "pygments_lexer": "ipython3",
   "version": "3.9.12"
  }
 },
 "nbformat": 4,
 "nbformat_minor": 5
}
