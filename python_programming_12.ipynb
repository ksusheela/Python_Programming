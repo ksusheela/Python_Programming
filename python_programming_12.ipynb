{
 "cells": [
  {
   "cell_type": "markdown",
   "id": "937c85b8",
   "metadata": {},
   "source": [
    "## 1. Write a Python program to Extract Unique values dictionary values?"
   ]
  },
  {
   "cell_type": "code",
   "execution_count": 1,
   "id": "ed710dfa",
   "metadata": {},
   "outputs": [
    {
     "name": "stdout",
     "output_type": "stream",
     "text": [
      "Unique values: {1, 2, 3}\n"
     ]
    }
   ],
   "source": [
    "# Define the dictionary\n",
    "my_dict = {'a': 1, 'b': 2, 'c': 3, 'd': 2, 'e': 1}\n",
    "\n",
    "# Use set() to extract unique values from the dictionary values\n",
    "unique_values = set(my_dict.values())\n",
    "\n",
    "# Print the unique values\n",
    "print(\"Unique values:\", unique_values)\n"
   ]
  },
  {
   "cell_type": "markdown",
   "id": "1415dc34",
   "metadata": {},
   "source": [
    "## 2. Write a Python program to find the sum of all items in a dictionary?"
   ]
  },
  {
   "cell_type": "code",
   "execution_count": 2,
   "id": "2b9d362e",
   "metadata": {},
   "outputs": [
    {
     "name": "stdout",
     "output_type": "stream",
     "text": [
      "Sum of all items: 10\n"
     ]
    }
   ],
   "source": [
    "# Define the dictionary\n",
    "my_dict = {'a': 1, 'b': 2, 'c': 3, 'd': 4}\n",
    "\n",
    "# Use sum() to find the sum of all dictionary items\n",
    "sum_of_items = sum(my_dict.values())\n",
    "\n",
    "# Print the sum of all items\n",
    "print(\"Sum of all items:\", sum_of_items)\n"
   ]
  },
  {
   "cell_type": "markdown",
   "id": "262125b0",
   "metadata": {},
   "source": [
    "## 3. Write a Python program to Merging two Dictionaries?"
   ]
  },
  {
   "cell_type": "code",
   "execution_count": 3,
   "id": "cfc47521",
   "metadata": {},
   "outputs": [
    {
     "name": "stdout",
     "output_type": "stream",
     "text": [
      "Merged dictionary: {'a': 1, 'b': 2, 'c': 3, 'd': 4, 'e': 5, 'f': 6}\n"
     ]
    }
   ],
   "source": [
    "# Define the first dictionary\n",
    "dict1 = {'a': 1, 'b': 2, 'c': 3}\n",
    "\n",
    "# Define the second dictionary\n",
    "dict2 = {'d': 4, 'e': 5, 'f': 6}\n",
    "\n",
    "# Use the update() method to merge the dictionaries\n",
    "merged_dict = dict1.copy()\n",
    "merged_dict.update(dict2)\n",
    "\n",
    "# Print the merged dictionary\n",
    "print(\"Merged dictionary:\", merged_dict)\n"
   ]
  },
  {
   "cell_type": "markdown",
   "id": "24e41be9",
   "metadata": {},
   "source": [
    "## 4. Write a Python program to convert key-values list to flat dictionary?"
   ]
  },
  {
   "cell_type": "code",
   "execution_count": 4,
   "id": "930e0a31",
   "metadata": {},
   "outputs": [
    {
     "name": "stdout",
     "output_type": "stream",
     "text": [
      "{'a': 1, 'b': 2, 'c': 3}\n"
     ]
    }
   ],
   "source": [
    "def convert_to_dict(lst):\n",
    "    \"\"\"\n",
    "    Convert list of key-value pairs to a flat dictionary.\n",
    "    \"\"\"\n",
    "    flat_dict = {}\n",
    "    for pair in lst:\n",
    "        flat_dict[pair[0]] = pair[1]\n",
    "    return flat_dict\n",
    "\n",
    "# Example usage:\n",
    "key_values = [(\"a\", 1), (\"b\", 2), (\"c\", 3)]\n",
    "flat_dict = convert_to_dict(key_values)\n",
    "print(flat_dict)\n",
    "# Output: {'a': 1, 'b': 2, 'c': 3}\n"
   ]
  },
  {
   "cell_type": "markdown",
   "id": "35c9996d",
   "metadata": {},
   "source": [
    "## 5. Write a Python program to insertion at the beginning in OrderedDict?"
   ]
  },
  {
   "cell_type": "code",
   "execution_count": 5,
   "id": "5ebc3061",
   "metadata": {},
   "outputs": [
    {
     "name": "stdout",
     "output_type": "stream",
     "text": [
      "OrderedDict([('d', 4), ('a', 1), ('b', 2), ('c', 3)])\n"
     ]
    }
   ],
   "source": [
    "from collections import OrderedDict\n",
    "\n",
    "# create an ordered dictionary\n",
    "od = OrderedDict([('a', 1), ('b', 2), ('c', 3)])\n",
    "\n",
    "# insert a new element at the beginning of the ordered dictionary\n",
    "od.update({'d': 4})\n",
    "od.move_to_end('d', last=False)\n",
    "\n",
    "# print the updated ordered dictionary\n",
    "print(od)\n"
   ]
  },
  {
   "cell_type": "markdown",
   "id": "c1243971",
   "metadata": {},
   "source": [
    "## 6. Write a Python program to check order of character in string using OrderedDict()?"
   ]
  },
  {
   "cell_type": "code",
   "execution_count": 6,
   "id": "f629db84",
   "metadata": {},
   "outputs": [
    {
     "name": "stdout",
     "output_type": "stream",
     "text": [
      "False\n"
     ]
    }
   ],
   "source": [
    "from collections import OrderedDict\n",
    "\n",
    "def check_order(string, pattern):\n",
    "    # create an ordered dictionary to store the pattern\n",
    "    pattern_dict = OrderedDict.fromkeys(pattern)\n",
    "\n",
    "    # initialize a counter for the pattern dictionary\n",
    "    pattern_count = 0\n",
    "\n",
    "    # iterate through the string\n",
    "    for char in string:\n",
    "        if char in pattern_dict:\n",
    "            pattern_dict[char] = pattern_count\n",
    "            pattern_count += 1\n",
    "\n",
    "    # check if the pattern dictionary is in order\n",
    "    return list(pattern_dict.values()) == sorted(list(pattern_dict.values()))\n",
    "\n",
    "# example usage\n",
    "string = \"hello world\"\n",
    "pattern = \"hlo\"\n",
    "result = check_order(string, pattern)\n",
    "print(result)\n"
   ]
  },
  {
   "cell_type": "markdown",
   "id": "308dd537",
   "metadata": {},
   "source": [
    "## 7. Write a Python program to sort Python Dictionaries by Key or Value?"
   ]
  },
  {
   "cell_type": "code",
   "execution_count": 7,
   "id": "8c0c3edd",
   "metadata": {},
   "outputs": [
    {
     "name": "stdout",
     "output_type": "stream",
     "text": [
      "{'apple': 10, 'banana': 5, 'grape': 15, 'orange': 20}\n",
      "{'banana': 5, 'apple': 10, 'grape': 15, 'orange': 20}\n"
     ]
    }
   ],
   "source": [
    "# sample dictionary\n",
    "my_dict = {'apple': 10, 'orange': 20, 'banana': 5, 'grape': 15}\n",
    "\n",
    "# sort by key\n",
    "sorted_dict_by_key = dict(sorted(my_dict.items()))\n",
    "print(sorted_dict_by_key)\n",
    "\n",
    "# sort by value\n",
    "sorted_dict_by_value = dict(sorted(my_dict.items(), key=lambda item: item[1]))\n",
    "print(sorted_dict_by_value)\n"
   ]
  },
  {
   "cell_type": "code",
   "execution_count": null,
   "id": "0a363115",
   "metadata": {},
   "outputs": [],
   "source": []
  }
 ],
 "metadata": {
  "kernelspec": {
   "display_name": "Python 3 (ipykernel)",
   "language": "python",
   "name": "python3"
  },
  "language_info": {
   "codemirror_mode": {
    "name": "ipython",
    "version": 3
   },
   "file_extension": ".py",
   "mimetype": "text/x-python",
   "name": "python",
   "nbconvert_exporter": "python",
   "pygments_lexer": "ipython3",
   "version": "3.9.12"
  }
 },
 "nbformat": 4,
 "nbformat_minor": 5
}
