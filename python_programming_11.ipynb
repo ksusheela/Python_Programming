{
 "cells": [
  {
   "cell_type": "markdown",
   "id": "acd5728a",
   "metadata": {},
   "source": [
    "## 1. Write a Python program to find words which are greater than given length k?"
   ]
  },
  {
   "cell_type": "code",
   "execution_count": 1,
   "id": "c4c98d08",
   "metadata": {},
   "outputs": [
    {
     "name": "stdout",
     "output_type": "stream",
     "text": [
      "Words greater than length 6 are: ['elderberry']\n"
     ]
    }
   ],
   "source": [
    "# Define the list of words\n",
    "word_list = ['apple', 'banana', 'cherry', 'date', 'elderberry']\n",
    "\n",
    "# Define the minimum length of words to find\n",
    "k = 6\n",
    "\n",
    "# Use list comprehension to create a new list of words that are greater than length k\n",
    "long_words = [word for word in word_list if len(word) > k]\n",
    "\n",
    "# Print the result\n",
    "print(\"Words greater than length\", k, \"are:\", long_words)\n"
   ]
  },
  {
   "cell_type": "markdown",
   "id": "5162b184",
   "metadata": {},
   "source": [
    "## 2. Write a Python program for removing i-th character from a string?"
   ]
  },
  {
   "cell_type": "code",
   "execution_count": 2,
   "id": "a3f4f716",
   "metadata": {},
   "outputs": [
    {
     "name": "stdout",
     "output_type": "stream",
     "text": [
      "Original string: Hello World\n",
      "New string: Hell World\n"
     ]
    }
   ],
   "source": [
    "# Define the original string\n",
    "my_string = \"Hello World\"\n",
    "\n",
    "# Define the index of the character to remove\n",
    "i = 4\n",
    "\n",
    "# Use string slicing to remove the i-th character\n",
    "new_string = my_string[:i] + my_string[i+1:]\n",
    "\n",
    "# Print the original string and the new string\n",
    "print(\"Original string:\", my_string)\n",
    "print(\"New string:\", new_string)\n"
   ]
  },
  {
   "cell_type": "markdown",
   "id": "c69ce3d1",
   "metadata": {},
   "source": [
    "## 3. Write a Python program to split and join a string?"
   ]
  },
  {
   "cell_type": "code",
   "execution_count": 3,
   "id": "33687570",
   "metadata": {},
   "outputs": [
    {
     "name": "stdout",
     "output_type": "stream",
     "text": [
      "Original string: Hello World\n",
      "New string: Hello World\n"
     ]
    }
   ],
   "source": [
    "# Define the original string\n",
    "my_string = \"Hello World\"\n",
    "\n",
    "# Use the split() method to split the string into a list of words\n",
    "word_list = my_string.split()\n",
    "\n",
    "# Use the join() method to join the list of words into a new string with a space separator\n",
    "new_string = \" \".join(word_list)\n",
    "\n",
    "# Print the original string and the new string\n",
    "print(\"Original string:\", my_string)\n",
    "print(\"New string:\", new_string)\n"
   ]
  },
  {
   "cell_type": "markdown",
   "id": "0e8b0ffe",
   "metadata": {},
   "source": [
    "## 4. Write a Python to check if a given string is binary string or not?"
   ]
  },
  {
   "cell_type": "code",
   "execution_count": 9,
   "id": "9042ecc8",
   "metadata": {},
   "outputs": [
    {
     "name": "stdout",
     "output_type": "stream",
     "text": [
      "The string is a binary string.\n"
     ]
    }
   ],
   "source": [
    "# Define the string to check\n",
    "my_string = \"10100101\"\n",
    "\n",
    "# Define the set of valid binary characters\n",
    "valid_chars = {'0', '1'}\n",
    "\n",
    "# Use set comprehension to create a set of characters in the string\n",
    "char_set = {char for char in my_string}\n",
    "\n",
    "# Check if the char_set contains only valid binary characters\n",
    "if char_set == valid_chars or char_set == {'0'} or char_set == {'1'}:\n",
    "    print(\"The string is a binary string.\")\n",
    "else:\n",
    "    print(\"The string is not a binary string.\")\n"
   ]
  },
  {
   "cell_type": "markdown",
   "id": "b5cbb734",
   "metadata": {},
   "source": [
    "## 5. Write a Python program to find uncommon words from two Strings?"
   ]
  },
  {
   "cell_type": "code",
   "execution_count": 5,
   "id": "120d80a5",
   "metadata": {},
   "outputs": [
    {
     "name": "stdout",
     "output_type": "stream",
     "text": [
      "Uncommon words: {'jumps', 'over', 'dog', 'lazy'}\n"
     ]
    }
   ],
   "source": [
    "# Define the two strings\n",
    "string1 = \"the quick brown fox\"\n",
    "string2 = \"the lazy dog jumps over the quick brown fox\"\n",
    "\n",
    "# Split the strings into lists of words\n",
    "list1 = string1.split()\n",
    "list2 = string2.split()\n",
    "\n",
    "# Find the uncommon words in both lists using set difference\n",
    "uncommon_words = set(list1) ^ set(list2)\n",
    "\n",
    "# Print the uncommon words\n",
    "print(\"Uncommon words:\", uncommon_words)\n"
   ]
  },
  {
   "cell_type": "markdown",
   "id": "be200a14",
   "metadata": {},
   "source": [
    "## 6. Write a Python to find all duplicate characters in string?"
   ]
  },
  {
   "cell_type": "code",
   "execution_count": 6,
   "id": "d60fe855",
   "metadata": {},
   "outputs": [
    {
     "name": "stdout",
     "output_type": "stream",
     "text": [
      "Duplicate characters: {'l', 'o'}\n"
     ]
    }
   ],
   "source": [
    "# Define the string\n",
    "my_string = \"hello world\"\n",
    "\n",
    "# Create an empty set to store duplicate characters\n",
    "duplicates = set()\n",
    "\n",
    "# Create a set to store all characters seen so far\n",
    "seen = set()\n",
    "\n",
    "# Loop through each character in the string\n",
    "for char in my_string:\n",
    "    # Check if the character is already in the seen set\n",
    "    if char in seen:\n",
    "        # If the character is in seen, add it to the duplicates set\n",
    "        duplicates.add(char)\n",
    "    else:\n",
    "        # If the character is not in seen, add it to seen\n",
    "        seen.add(char)\n",
    "\n",
    "# Print the duplicate characters\n",
    "print(\"Duplicate characters:\", duplicates)\n"
   ]
  },
  {
   "cell_type": "markdown",
   "id": "386e3e5b",
   "metadata": {},
   "source": [
    "## 7. Write a Python Program to check if a string contains any special character?"
   ]
  },
  {
   "cell_type": "code",
   "execution_count": 12,
   "id": "f3a631bc",
   "metadata": {},
   "outputs": [
    {
     "name": "stdout",
     "output_type": "stream",
     "text": [
      "The string contains special characters.\n"
     ]
    }
   ],
   "source": [
    "import re\n",
    "\n",
    "# Define the string\n",
    "my_string = \"Hello world@#\"\n",
    "\n",
    "# Define the regular expression pattern to match special characters\n",
    "pattern = '[^a-zA-Z0-9]'\n",
    "\n",
    "# Use the search() method from the re module to check if the string contains any special characters\n",
    "if re.search(pattern, my_string):\n",
    "    print(\"The string contains special characters.\")\n",
    "else:\n",
    "    print(\"The string does not contain special characters.\")\n"
   ]
  },
  {
   "cell_type": "code",
   "execution_count": null,
   "id": "49e95280",
   "metadata": {},
   "outputs": [],
   "source": []
  }
 ],
 "metadata": {
  "kernelspec": {
   "display_name": "Python 3 (ipykernel)",
   "language": "python",
   "name": "python3"
  },
  "language_info": {
   "codemirror_mode": {
    "name": "ipython",
    "version": 3
   },
   "file_extension": ".py",
   "mimetype": "text/x-python",
   "name": "python",
   "nbconvert_exporter": "python",
   "pygments_lexer": "ipython3",
   "version": "3.9.12"
  }
 },
 "nbformat": 4,
 "nbformat_minor": 5
}
